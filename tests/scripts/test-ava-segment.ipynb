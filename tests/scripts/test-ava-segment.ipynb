{
 "cells": [
  {
   "cell_type": "code",
   "execution_count": 13,
   "id": "92017abb-316d-43a6-b23a-e93458c04bcf",
   "metadata": {
    "tags": []
   },
   "outputs": [],
   "source": [
    "import pathlib\n",
    "\n",
    "import numpy as np\n",
    "import vocalpy as voc"
   ]
  },
  {
   "cell_type": "code",
   "execution_count": 2,
   "id": "6dabd6b2-3b3e-4a99-ad1e-414d4e60c7e6",
   "metadata": {
    "tags": []
   },
   "outputs": [],
   "source": [
    "test_data_dir = pathlib.Path(\n",
    "    '/home/pimienta/Documents/data/vocal/goffinet'\n",
    ")\n",
    "wav_dir = test_data_dir / 'BM003'"
   ]
  },
  {
   "cell_type": "code",
   "execution_count": 3,
   "id": "5970e0e2-810a-4a98-880b-5631cb65a05c",
   "metadata": {
    "tags": []
   },
   "outputs": [],
   "source": [
    "wav_paths = voc.paths.from_dir(wav_dir, ext='wav')"
   ]
  },
  {
   "cell_type": "code",
   "execution_count": 4,
   "id": "7632652b-2210-40d3-ad92-bdf098476022",
   "metadata": {
    "tags": []
   },
   "outputs": [],
   "source": [
    "segs_dir = test_data_dir / 'segs'"
   ]
  },
  {
   "cell_type": "code",
   "execution_count": 5,
   "id": "7e4eed69-8ce8-4817-985a-f1e4d0f3a001",
   "metadata": {
    "tags": []
   },
   "outputs": [],
   "source": [
    "seg_txt_files = sorted(segs_dir.glob('*.txt'))"
   ]
  },
  {
   "cell_type": "code",
   "execution_count": 6,
   "id": "3383388b-4059-4822-9009-ea372530f735",
   "metadata": {
    "tags": []
   },
   "outputs": [],
   "source": [
    "spect_params = {\n",
    "    'min_freq': 30000.0,\n",
    "    'max_freq': 110000.0,\n",
    "    'nperseg': 1024,\n",
    "    'noverlap': 512,\n",
    "    'spect_min_val': -10.0,\n",
    "    'spect_max_val': 2.0,\n",
    "    'transform': 'log_magnitude',\n",
    "}"
   ]
  },
  {
   "cell_type": "code",
   "execution_count": 7,
   "id": "5eccd6cb-9112-47ad-8252-d14141e4fff7",
   "metadata": {
    "tags": []
   },
   "outputs": [],
   "source": [
    "import functools\n",
    "\n",
    "spect_callable = functools.partial(voc.segment.ava.get_spectrogram, **spect_params)"
   ]
  },
  {
   "cell_type": "code",
   "execution_count": 8,
   "id": "86403beb-4887-4cb3-b544-1d853e1e23b9",
   "metadata": {
    "tags": []
   },
   "outputs": [],
   "source": [
    "segment_params = {\n",
    "    'thresh_max': 0.305,\n",
    "    'thresh_min': 0.3,\n",
    "    'thresh_lowest': 0.295,\n",
    "    'min_dur': 0.03,\n",
    "    'max_dur': 0.2,\n",
    "    'smoothing_timescale': 0.007,\n",
    "    'temperature': 0.5,\n",
    "}"
   ]
  },
  {
   "cell_type": "code",
   "execution_count": 20,
   "id": "1dc5fc27-a6ae-4b47-bf19-f2f91cd339b7",
   "metadata": {
    "tags": []
   },
   "outputs": [],
   "source": [
    "for seg_txt_path in seg_txt_files:\n",
    "    segs = np.loadtxt(seg_txt_path)\n",
    "    segs = segs.reshape(-1,2)\n",
    "    onsets_txt, offsets_txt = segs[:,0], segs[:,1]\n",
    "    wav_path = (wav_dir / seg_txt_path.name.replace('.txt', '.wav'))\n",
    "    audio = voc.Audio.read(wav_path)\n",
    "    onsets, offsets = voc.segment.ava.segment(audio.data, audio.samplerate,\n",
    "                                          spect_callback=spect_callable,\n",
    "                                          **segment_params)\n",
    "    np.allclose(onsets_txt, onsets)\n",
    "    np.allclose(offsets_txt, offsets)"
   ]
  }
 ],
 "metadata": {
  "kernelspec": {
   "display_name": "Python 3 (ipykernel)",
   "language": "python",
   "name": "python3"
  },
  "language_info": {
   "codemirror_mode": {
    "name": "ipython",
    "version": 3
   },
   "file_extension": ".py",
   "mimetype": "text/x-python",
   "name": "python",
   "nbconvert_exporter": "python",
   "pygments_lexer": "ipython3",
   "version": "3.10.12"
  }
 },
 "nbformat": 4,
 "nbformat_minor": 5
}
