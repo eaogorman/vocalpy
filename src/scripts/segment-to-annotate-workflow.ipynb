{
 "cells": [
  {
   "cell_type": "code",
   "execution_count": 1,
   "id": "f26db875-a8e0-4c86-9bf8-e9772f40762a",
   "metadata": {
    "tags": []
   },
   "outputs": [],
   "source": [
    "from __future__ import annotations\n",
    "\n",
    "import attrs\n",
    "\n",
    "import vocalpy as voc"
   ]
  },
  {
   "cell_type": "code",
   "execution_count": 2,
   "id": "a3675240-31c7-406f-aea7-cee9499beede",
   "metadata": {
    "tags": []
   },
   "outputs": [],
   "source": [
    "@attrs.define\n",
    "class SequenceDataset:\n",
    "    sequences: list[vocalpy.Sequence] = attrs.field()\n",
    "\n",
    "    def to_sqlite(db_path: str):\n",
    "        # TODO: write this so that we always re-create the whole thing from scratch;\n",
    "        # don't bother checking whether anything is in the database because we *know* we just made it\n",
    "        # that's the whole point\n",
    "        pass\n",
    "\n",
    "    def from_sqlite(db_path: str):\n",
    "        pass"
   ]
  },
  {
   "cell_type": "code",
   "execution_count": 3,
   "id": "68797005-c251-46e7-acd8-2720257ef397",
   "metadata": {
    "tags": []
   },
   "outputs": [
    {
     "name": "stdout",
     "output_type": "stream",
     "text": [
      "/Users/davidnicholson/Documents/repos/coding/vocalpy/vocalpy\n"
     ]
    }
   ],
   "source": [
    "cd /Users/davidnicholson/Documents/repos/coding/vocalpy/vocalpy"
   ]
  },
  {
   "cell_type": "code",
   "execution_count": 4,
   "id": "01e08ecd-e844-46d4-a216-95eca8d0b48a",
   "metadata": {
    "tags": []
   },
   "outputs": [
    {
     "name": "stdout",
     "output_type": "stream",
     "text": [
      "\u001B[1m\u001B[36m032312\u001B[m\u001B[m/ \u001B[1m\u001B[36m032412\u001B[m\u001B[m/\n"
     ]
    }
   ],
   "source": [
    "ls tests/data-for-tests/source/audio_cbin_annot_notmat/gy6or6/"
   ]
  },
  {
   "cell_type": "code",
   "execution_count": 5,
   "id": "a5a0b012-3b48-4ca5-b5a5-ca4c5fed5c78",
   "metadata": {
    "tags": []
   },
   "outputs": [],
   "source": [
    "data_dir = 'tests/data-for-tests/source/audio_cbin_annot_notmat/gy6or6/032312/'"
   ]
  },
  {
   "cell_type": "code",
   "execution_count": 6,
   "id": "62a29dad-9f3f-45ec-9999-331fbdf6d237",
   "metadata": {
    "tags": []
   },
   "outputs": [],
   "source": [
    "cbins = voc.paths.from_dir(data_dir, 'cbin')"
   ]
  },
  {
   "cell_type": "code",
   "execution_count": 7,
   "id": "0945c4c4-af5b-41c2-9f6a-6c79c8781b57",
   "metadata": {
    "tags": []
   },
   "outputs": [],
   "source": [
    "aud = voc.Audio(path=cbins[0])"
   ]
  },
  {
   "cell_type": "code",
   "execution_count": 8,
   "id": "e28b1f35-73e5-44e5-85ca-26d2d346de05",
   "metadata": {
    "tags": []
   },
   "outputs": [],
   "source": [
    "audios = [voc.Audio.read(cbin) for cbin in cbins]"
   ]
  },
  {
   "cell_type": "code",
   "execution_count": 9,
   "id": "e1304090-3804-4197-a8be-18749294dad7",
   "metadata": {
    "tags": []
   },
   "outputs": [],
   "source": [
    "segment_params = {\n",
    "    'threshold': 1500,\n",
    "    'min_dur': 0.01,\n",
    "    'min_silent_dur': 0.006,\n",
    "}\n",
    "segmenter = voc.Segmenter(segment_params=segment_params)"
   ]
  },
  {
   "cell_type": "code",
   "execution_count": 10,
   "id": "dc8f9220-57fb-4ad4-b88f-f04b2c67447b",
   "metadata": {
    "tags": []
   },
   "outputs": [
    {
     "name": "stdout",
     "output_type": "stream",
     "text": [
      "[                                        ] | 0% Completed | 131.14 us"
     ]
    },
    {
     "name": "stderr",
     "output_type": "stream",
     "text": [
      "/Users/davidnicholson/Documents/repos/coding/vocalpy/vocalpy/src/vocalpy/signal/audio.py:47: UserWarning: Values in `data` would overflow when squaring because of dtype, >i2;casting to a larger integer dtype to avoid\n",
      "  warnings.warn(\n"
     ]
    },
    {
     "name": "stdout",
     "output_type": "stream",
     "text": [
      "[########################################] | 100% Completed | 106.46 ms\n"
     ]
    }
   ],
   "source": [
    "seqs = segmenter.segment(audios)"
   ]
  },
  {
   "cell_type": "code",
   "execution_count": 11,
   "id": "855fed30-3d90-4853-99f0-c1d8cab45fc3",
   "metadata": {
    "tags": []
   },
   "outputs": [],
   "source": [
    "import sqlalchemy"
   ]
  },
  {
   "cell_type": "code",
   "execution_count": 12,
   "id": "9207dc23-93d8-4e30-b034-da5fa0adaa8d",
   "metadata": {},
   "outputs": [],
   "source": [
    "import enum\n",
    "\n",
    "from sqlalchemy import (\n",
    "    Column,\n",
    "    create_engine,\n",
    "    Enum,\n",
    "    Float,\n",
    "    ForeignKey,\n",
    "    Integer,\n",
    "    String,\n",
    "    Table,\n",
    ")\n",
    "from sqlalchemy.orm import DeclarativeBase\n",
    "\n",
    "from sqlalchemy.orm import relationship\n",
    "\n",
    "import vocalpy as voc"
   ]
  },
  {
   "cell_type": "code",
   "execution_count": 13,
   "id": "e976aa07-6555-4f43-a9a5-4dbf3209485f",
   "metadata": {
    "tags": []
   },
   "outputs": [],
   "source": [
    "class Base(DeclarativeBase):\n",
    "    pass"
   ]
  },
  {
   "cell_type": "code",
   "execution_count": 14,
   "id": "2547b6d3-fad1-4784-bbfb-44b39eb0aaa1",
   "metadata": {
    "tags": []
   },
   "outputs": [],
   "source": [
    "class Audio(Base):\n",
    "    __tablename__ = 'audios'\n",
    "    \n",
    "    id = Column(Integer, primary_key=True)\n",
    "    path = Column(String)\n",
    "    \n",
    "    sequences = relationship(\"Sequence\", back_populates=\"audio\")"
   ]
  },
  {
   "cell_type": "code",
   "execution_count": 15,
   "id": "ee0463e6-3841-45a5-a595-d7813a2f36b1",
   "metadata": {
    "tags": []
   },
   "outputs": [],
   "source": [
    "class SegmentParams(Base):\n",
    "    __tablename__ = 'segment_params'\n",
    "    id = Column(Integer, primary_key=True)\n",
    "    path = Column(String)\n",
    "    \n",
    "    sequences = relationship(\"Sequence\", back_populates=\"segment_params\")"
   ]
  },
  {
   "cell_type": "code",
   "execution_count": 16,
   "id": "6d9a2c35-fad4-4d63-8f6e-dae03ce1f2d3",
   "metadata": {
    "tags": []
   },
   "outputs": [],
   "source": [
    "class Sequence(Base):\n",
    "    __tablename__ = 'sequences'\n",
    "    \n",
    "    id = Column(Integer, primary_key=True)\n",
    "    audio_id = Column(Integer, ForeignKey('audios.id'))\n",
    "    onset = Column(Float)\n",
    "    offset = Column(Float)\n",
    "    method = Column(String)  # should this be a table?\n",
    "    segment_params_id = Column(Integer, ForeignKey('segment_params.id'))\n",
    "\n",
    "    audio = relationship(\"Audio\", back_populates=\"sequences\")\n",
    "    segment_params = relationship(\"SegmentParams\", back_populates=\"sequences\")\n",
    "    \n",
    "    units = relationship(\"Unit\", back_populates=\"sequence\")\n"
   ]
  },
  {
   "cell_type": "code",
   "execution_count": 17,
   "id": "5d26d57f-21c9-45f1-8f45-c440017230fc",
   "metadata": {
    "tags": []
   },
   "outputs": [],
   "source": [
    "class Unit(Base):\n",
    "    __tablename__ = 'units'\n",
    "    \n",
    "    id = Column(Integer, primary_key=True)\n",
    "    sequence_id = Column(Integer, ForeignKey('sequences.id'))\n",
    "    onset = Column(Float)\n",
    "    offset = Column(Float)\n",
    "    \n",
    "    sequence = relationship(\"Sequence\", back_populates=\"units\")"
   ]
  },
  {
   "cell_type": "code",
   "execution_count": 19,
   "id": "4baec922-a69e-46de-8331-6b5ede1a7a90",
   "metadata": {
    "tags": []
   },
   "outputs": [],
   "source": [
    "from sqlalchemy import create_engine, select\n",
    "from sqlalchemy.orm import Session"
   ]
  },
  {
   "cell_type": "code",
   "execution_count": 18,
   "id": "3c1e3876-fe05-4a48-b077-c694b072880b",
   "metadata": {
    "tags": []
   },
   "outputs": [],
   "source": [
    "def get_sqlite_engine(db_path=':memory:', echo=True):\n",
    "     return create_engine(f'sqlite:///{db_path}', echo=echo)\n",
    "\n",
    "def get_session(engine):\n",
    "    Session = sessionmaker(bind=engine)\n",
    "    session = Session()\n",
    "    return session"
   ]
  },
  {
   "cell_type": "code",
   "execution_count": 32,
   "id": "86e101bc-a986-47d6-bdc5-8ea22ab61c2b",
   "metadata": {
    "tags": []
   },
   "outputs": [],
   "source": [
    "import json\n",
    "import pathlib\n",
    "\n",
    "def to_sqlite(seqs, db_name=':memory:', dst=None, echo=True):\n",
    "    if dst:\n",
    "        dst = pathlib.Path(dst)\n",
    "        if not dst.exist() or not dst.is_dir():\n",
    "            raise NotADirectory(\n",
    "                f\"`dst` not found or not recognized as a directory: {dst}\"\n",
    "            )\n",
    "        url = f'sqlite:///{dst}{db_name}'\n",
    "    else:\n",
    "        url = f'sqlite:///{db_name}'\n",
    "\n",
    "    engine = create_engine(url, echo=echo)\n",
    "\n",
    "    Base.metadata.create_all(engine)\n",
    "\n",
    "    # TODO: handle checking here -- \n",
    "    # actually make sure in Segmenter that `segment_params` can be serialized\n",
    "    \n",
    "    # make a set to get unique values, \n",
    "    # then make a list so we can do uniq_segment_params.index in loop below\n",
    "\n",
    "    segment_params_map = {}\n",
    "    uniq_segment_params = []\n",
    "    # need to do it this way since we can't hash a dict to use `set` to find unique\n",
    "    # https://stackoverflow.com/questions/11092511/list-of-unique-dictionaries\n",
    "    for seq in seqs:\n",
    "        if seq.segment_params not in uniq_segment_params:\n",
    "            uniq_segment_params.append(segment_params)\n",
    "\n",
    "    orm_segment_params = []\n",
    "    for ind, segment_params_dict in enumerate(uniq_segment_params):\n",
    "        fname = f'segment-params-{ind + 1}.json'\n",
    "        if dst:\n",
    "            segment_params_json_path = dst / fnane\n",
    "        else:\n",
    "            segment_params_json_path = pathlib.Path(fname)\n",
    "        with segment_params_json_path.open('w') as fp:\n",
    "            json.dump(segment_params_dict, fp)\n",
    "        orm_segment_params.append(\n",
    "            SegmentParams(path=str(segment_params_json_path))\n",
    "        )\n",
    "\n",
    "    with Session(engine) as session, session.begin():\n",
    "        for an_orm_segment_params in orm_segment_params:\n",
    "            session.add(an_orm_segment_params)\n",
    "        \n",
    "        for seq in seqs:\n",
    "            audio = Audio(path=str(seq.audio.path))\n",
    "            session.add(audio)\n",
    "\n",
    "            # make and add sequence, referring to audio and segment params\n",
    "            ind = uniq_segment_params.index(seq.segment_params)\n",
    "            an_orm_segment_params = orm_segment_params[ind]\n",
    "\n",
    "            sequence = Sequence(\n",
    "                audio=audio,\n",
    "                segment_params=an_orm_segment_params,\n",
    "                onset=seq.onset,\n",
    "                offset=seq.offset,\n",
    "                method=seq.method,\n",
    "            )\n",
    "            session.add(sequence)\n",
    "\n",
    "            # make and add units\n",
    "            for seq_unit in seq.units:\n",
    "                unit = Unit(\n",
    "                    onset=seq_unit.onset,\n",
    "                    offset=seq_unit.offset,\n",
    "                    sequence=sequence\n",
    "                )\n",
    "        session.add(unit)\n",
    "        # ---- implicit session.commit() when we __exit__ context + begin() from above"
   ]
  },
  {
   "cell_type": "code",
   "execution_count": 33,
   "id": "2f674d23-1ac8-47fc-a693-84fb8e135cd1",
   "metadata": {
    "tags": []
   },
   "outputs": [
    {
     "name": "stdout",
     "output_type": "stream",
     "text": [
      "2023-05-07 10:00:26,254 INFO sqlalchemy.engine.Engine BEGIN (implicit)\n",
      "2023-05-07 10:00:26,255 INFO sqlalchemy.engine.Engine PRAGMA main.table_info(\"audios\")\n",
      "2023-05-07 10:00:26,256 INFO sqlalchemy.engine.Engine [raw sql] ()\n",
      "2023-05-07 10:00:26,262 INFO sqlalchemy.engine.Engine PRAGMA temp.table_info(\"audios\")\n",
      "2023-05-07 10:00:26,263 INFO sqlalchemy.engine.Engine [raw sql] ()\n",
      "2023-05-07 10:00:26,265 INFO sqlalchemy.engine.Engine PRAGMA main.table_info(\"segment_params\")\n",
      "2023-05-07 10:00:26,266 INFO sqlalchemy.engine.Engine [raw sql] ()\n",
      "2023-05-07 10:00:26,268 INFO sqlalchemy.engine.Engine PRAGMA temp.table_info(\"segment_params\")\n",
      "2023-05-07 10:00:26,269 INFO sqlalchemy.engine.Engine [raw sql] ()\n",
      "2023-05-07 10:00:26,270 INFO sqlalchemy.engine.Engine PRAGMA main.table_info(\"sequences\")\n",
      "2023-05-07 10:00:26,271 INFO sqlalchemy.engine.Engine [raw sql] ()\n",
      "2023-05-07 10:00:26,273 INFO sqlalchemy.engine.Engine PRAGMA temp.table_info(\"sequences\")\n",
      "2023-05-07 10:00:26,276 INFO sqlalchemy.engine.Engine [raw sql] ()\n",
      "2023-05-07 10:00:26,278 INFO sqlalchemy.engine.Engine PRAGMA main.table_info(\"units\")\n",
      "2023-05-07 10:00:26,279 INFO sqlalchemy.engine.Engine [raw sql] ()\n",
      "2023-05-07 10:00:26,281 INFO sqlalchemy.engine.Engine PRAGMA temp.table_info(\"units\")\n",
      "2023-05-07 10:00:26,282 INFO sqlalchemy.engine.Engine [raw sql] ()\n",
      "2023-05-07 10:00:26,284 INFO sqlalchemy.engine.Engine \n",
      "CREATE TABLE audios (\n",
      "\tid INTEGER NOT NULL, \n",
      "\tpath VARCHAR, \n",
      "\tPRIMARY KEY (id)\n",
      ")\n",
      "\n",
      "\n",
      "2023-05-07 10:00:26,286 INFO sqlalchemy.engine.Engine [no key 0.00173s] ()\n",
      "2023-05-07 10:00:26,288 INFO sqlalchemy.engine.Engine \n",
      "CREATE TABLE segment_params (\n",
      "\tid INTEGER NOT NULL, \n",
      "\tpath VARCHAR, \n",
      "\tPRIMARY KEY (id)\n",
      ")\n",
      "\n",
      "\n",
      "2023-05-07 10:00:26,290 INFO sqlalchemy.engine.Engine [no key 0.00145s] ()\n",
      "2023-05-07 10:00:26,295 INFO sqlalchemy.engine.Engine \n",
      "CREATE TABLE sequences (\n",
      "\tid INTEGER NOT NULL, \n",
      "\taudio_id INTEGER, \n",
      "\tonset FLOAT, \n",
      "\t\"offset\" FLOAT, \n",
      "\tmethod VARCHAR, \n",
      "\tsegment_params_id INTEGER, \n",
      "\tPRIMARY KEY (id), \n",
      "\tFOREIGN KEY(audio_id) REFERENCES audios (id), \n",
      "\tFOREIGN KEY(segment_params_id) REFERENCES segment_params (id)\n",
      ")\n",
      "\n",
      "\n",
      "2023-05-07 10:00:26,296 INFO sqlalchemy.engine.Engine [no key 0.00126s] ()\n",
      "2023-05-07 10:00:26,298 INFO sqlalchemy.engine.Engine \n",
      "CREATE TABLE units (\n",
      "\tid INTEGER NOT NULL, \n",
      "\tsequence_id INTEGER, \n",
      "\tonset FLOAT, \n",
      "\t\"offset\" FLOAT, \n",
      "\tPRIMARY KEY (id), \n",
      "\tFOREIGN KEY(sequence_id) REFERENCES sequences (id)\n",
      ")\n",
      "\n",
      "\n",
      "2023-05-07 10:00:26,299 INFO sqlalchemy.engine.Engine [no key 0.00088s] ()\n",
      "2023-05-07 10:00:26,301 INFO sqlalchemy.engine.Engine COMMIT\n",
      "2023-05-07 10:00:26,320 INFO sqlalchemy.engine.Engine BEGIN (implicit)\n",
      "2023-05-07 10:00:26,327 INFO sqlalchemy.engine.Engine INSERT INTO audios (path) VALUES (?) RETURNING id\n",
      "2023-05-07 10:00:26,329 INFO sqlalchemy.engine.Engine [generated in 0.00030s (insertmanyvalues) 1/12 (ordered; batch not supported)] ('tests/data-for-tests/source/audio_cbin_annot_notmat/gy6or6/032312/gy6or6_baseline_230312_0808.138.cbin',)\n",
      "2023-05-07 10:00:26,331 INFO sqlalchemy.engine.Engine INSERT INTO audios (path) VALUES (?) RETURNING id\n",
      "2023-05-07 10:00:26,333 INFO sqlalchemy.engine.Engine [insertmanyvalues 2/12 (ordered; batch not supported)] ('tests/data-for-tests/source/audio_cbin_annot_notmat/gy6or6/032312/gy6or6_baseline_230312_0809.141.cbin',)\n",
      "2023-05-07 10:00:26,339 INFO sqlalchemy.engine.Engine INSERT INTO audios (path) VALUES (?) RETURNING id\n",
      "2023-05-07 10:00:26,350 INFO sqlalchemy.engine.Engine [insertmanyvalues 3/12 (ordered; batch not supported)] ('tests/data-for-tests/source/audio_cbin_annot_notmat/gy6or6/032312/gy6or6_baseline_230312_0810.148.cbin',)\n",
      "2023-05-07 10:00:26,352 INFO sqlalchemy.engine.Engine INSERT INTO audios (path) VALUES (?) RETURNING id\n",
      "2023-05-07 10:00:26,353 INFO sqlalchemy.engine.Engine [insertmanyvalues 4/12 (ordered; batch not supported)] ('tests/data-for-tests/source/audio_cbin_annot_notmat/gy6or6/032312/gy6or6_baseline_230312_0811.159.cbin',)\n",
      "2023-05-07 10:00:26,355 INFO sqlalchemy.engine.Engine INSERT INTO audios (path) VALUES (?) RETURNING id\n",
      "2023-05-07 10:00:26,356 INFO sqlalchemy.engine.Engine [insertmanyvalues 5/12 (ordered; batch not supported)] ('tests/data-for-tests/source/audio_cbin_annot_notmat/gy6or6/032312/gy6or6_baseline_230312_0813.163.cbin',)\n",
      "2023-05-07 10:00:26,358 INFO sqlalchemy.engine.Engine INSERT INTO audios (path) VALUES (?) RETURNING id\n",
      "2023-05-07 10:00:26,360 INFO sqlalchemy.engine.Engine [insertmanyvalues 6/12 (ordered; batch not supported)] ('tests/data-for-tests/source/audio_cbin_annot_notmat/gy6or6/032312/gy6or6_baseline_230312_0816.179.cbin',)\n",
      "2023-05-07 10:00:26,361 INFO sqlalchemy.engine.Engine INSERT INTO audios (path) VALUES (?) RETURNING id\n",
      "2023-05-07 10:00:26,362 INFO sqlalchemy.engine.Engine [insertmanyvalues 7/12 (ordered; batch not supported)] ('tests/data-for-tests/source/audio_cbin_annot_notmat/gy6or6/032312/gy6or6_baseline_230312_0817.183.cbin',)\n",
      "2023-05-07 10:00:26,363 INFO sqlalchemy.engine.Engine INSERT INTO audios (path) VALUES (?) RETURNING id\n",
      "2023-05-07 10:00:26,364 INFO sqlalchemy.engine.Engine [insertmanyvalues 8/12 (ordered; batch not supported)] ('tests/data-for-tests/source/audio_cbin_annot_notmat/gy6or6/032312/gy6or6_baseline_230312_0819.190.cbin',)\n",
      "2023-05-07 10:00:26,365 INFO sqlalchemy.engine.Engine INSERT INTO audios (path) VALUES (?) RETURNING id\n",
      "2023-05-07 10:00:26,365 INFO sqlalchemy.engine.Engine [insertmanyvalues 9/12 (ordered; batch not supported)] ('tests/data-for-tests/source/audio_cbin_annot_notmat/gy6or6/032312/gy6or6_baseline_230312_0820.196.cbin',)\n",
      "2023-05-07 10:00:26,366 INFO sqlalchemy.engine.Engine INSERT INTO audios (path) VALUES (?) RETURNING id\n",
      "2023-05-07 10:00:26,368 INFO sqlalchemy.engine.Engine [insertmanyvalues 10/12 (ordered; batch not supported)] ('tests/data-for-tests/source/audio_cbin_annot_notmat/gy6or6/032312/gy6or6_baseline_230312_0821.202.cbin',)\n",
      "2023-05-07 10:00:26,369 INFO sqlalchemy.engine.Engine INSERT INTO audios (path) VALUES (?) RETURNING id\n",
      "2023-05-07 10:00:26,371 INFO sqlalchemy.engine.Engine [insertmanyvalues 11/12 (ordered; batch not supported)] ('tests/data-for-tests/source/audio_cbin_annot_notmat/gy6or6/032312/gy6or6_baseline_230312_0918.584.cbin',)\n",
      "2023-05-07 10:00:26,372 INFO sqlalchemy.engine.Engine INSERT INTO audios (path) VALUES (?) RETURNING id\n",
      "2023-05-07 10:00:26,372 INFO sqlalchemy.engine.Engine [insertmanyvalues 12/12 (ordered; batch not supported)] ('tests/data-for-tests/source/audio_cbin_annot_notmat/gy6or6/032312/gy6or6_baseline_230312_1054.1329.cbin',)\n",
      "2023-05-07 10:00:26,375 INFO sqlalchemy.engine.Engine INSERT INTO segment_params (path) VALUES (?)\n",
      "2023-05-07 10:00:26,377 INFO sqlalchemy.engine.Engine [generated in 0.00217s] ('segment-params-1.json',)\n",
      "2023-05-07 10:00:26,381 INFO sqlalchemy.engine.Engine INSERT INTO sequences (audio_id, onset, \"offset\", method, segment_params_id) VALUES (?, ?, ?, ?, ?) RETURNING id\n",
      "2023-05-07 10:00:26,382 INFO sqlalchemy.engine.Engine [generated in 0.00015s (insertmanyvalues) 1/12 (ordered; batch not supported)] (1, 0.0, 12.30528125, 'audio_amplitude', 1)\n",
      "2023-05-07 10:00:26,384 INFO sqlalchemy.engine.Engine INSERT INTO sequences (audio_id, onset, \"offset\", method, segment_params_id) VALUES (?, ?, ?, ?, ?) RETURNING id\n",
      "2023-05-07 10:00:26,385 INFO sqlalchemy.engine.Engine [insertmanyvalues 2/12 (ordered; batch not supported)] (2, 0.0, 8.93928125, 'audio_amplitude', 1)\n",
      "2023-05-07 10:00:26,387 INFO sqlalchemy.engine.Engine INSERT INTO sequences (audio_id, onset, \"offset\", method, segment_params_id) VALUES (?, ?, ?, ?, ?) RETURNING id\n",
      "2023-05-07 10:00:26,388 INFO sqlalchemy.engine.Engine [insertmanyvalues 3/12 (ordered; batch not supported)] (3, 0.0, 12.9018125, 'audio_amplitude', 1)\n",
      "2023-05-07 10:00:26,389 INFO sqlalchemy.engine.Engine INSERT INTO sequences (audio_id, onset, \"offset\", method, segment_params_id) VALUES (?, ?, ?, ?, ?) RETURNING id\n",
      "2023-05-07 10:00:26,389 INFO sqlalchemy.engine.Engine [insertmanyvalues 4/12 (ordered; batch not supported)] (4, 0.0001875, 7.953875, 'audio_amplitude', 1)\n",
      "2023-05-07 10:00:26,391 INFO sqlalchemy.engine.Engine INSERT INTO sequences (audio_id, onset, \"offset\", method, segment_params_id) VALUES (?, ?, ?, ?, ?) RETURNING id\n",
      "2023-05-07 10:00:26,393 INFO sqlalchemy.engine.Engine [insertmanyvalues 5/12 (ordered; batch not supported)] (5, 0.0, 9.884375, 'audio_amplitude', 1)\n",
      "2023-05-07 10:00:26,394 INFO sqlalchemy.engine.Engine INSERT INTO sequences (audio_id, onset, \"offset\", method, segment_params_id) VALUES (?, ?, ?, ?, ?) RETURNING id\n",
      "2023-05-07 10:00:26,395 INFO sqlalchemy.engine.Engine [insertmanyvalues 6/12 (ordered; batch not supported)] (6, 0.0, 10.027125, 'audio_amplitude', 1)\n",
      "2023-05-07 10:00:26,395 INFO sqlalchemy.engine.Engine INSERT INTO sequences (audio_id, onset, \"offset\", method, segment_params_id) VALUES (?, ?, ?, ?, ?) RETURNING id\n",
      "2023-05-07 10:00:26,396 INFO sqlalchemy.engine.Engine [insertmanyvalues 7/12 (ordered; batch not supported)] (7, 0.0, 9.25090625, 'audio_amplitude', 1)\n",
      "2023-05-07 10:00:26,397 INFO sqlalchemy.engine.Engine INSERT INTO sequences (audio_id, onset, \"offset\", method, segment_params_id) VALUES (?, ?, ?, ?, ?) RETURNING id\n",
      "2023-05-07 10:00:26,398 INFO sqlalchemy.engine.Engine [insertmanyvalues 8/12 (ordered; batch not supported)] (8, 0.0, 8.53625, 'audio_amplitude', 1)\n",
      "2023-05-07 10:00:26,399 INFO sqlalchemy.engine.Engine INSERT INTO sequences (audio_id, onset, \"offset\", method, segment_params_id) VALUES (?, ?, ?, ?, ?) RETURNING id\n",
      "2023-05-07 10:00:26,399 INFO sqlalchemy.engine.Engine [insertmanyvalues 9/12 (ordered; batch not supported)] (9, 0.0, 9.31465625, 'audio_amplitude', 1)\n",
      "2023-05-07 10:00:26,400 INFO sqlalchemy.engine.Engine INSERT INTO sequences (audio_id, onset, \"offset\", method, segment_params_id) VALUES (?, ?, ?, ?, ?) RETURNING id\n",
      "2023-05-07 10:00:26,401 INFO sqlalchemy.engine.Engine [insertmanyvalues 10/12 (ordered; batch not supported)] (10, 0.0, 7.02346875, 'audio_amplitude', 1)\n",
      "2023-05-07 10:00:26,402 INFO sqlalchemy.engine.Engine INSERT INTO sequences (audio_id, onset, \"offset\", method, segment_params_id) VALUES (?, ?, ?, ?, ?) RETURNING id\n",
      "2023-05-07 10:00:26,402 INFO sqlalchemy.engine.Engine [insertmanyvalues 11/12 (ordered; batch not supported)] (11, 0.0, 11.16540625, 'audio_amplitude', 1)\n",
      "2023-05-07 10:00:26,404 INFO sqlalchemy.engine.Engine INSERT INTO sequences (audio_id, onset, \"offset\", method, segment_params_id) VALUES (?, ?, ?, ?, ?) RETURNING id\n",
      "2023-05-07 10:00:26,404 INFO sqlalchemy.engine.Engine [insertmanyvalues 12/12 (ordered; batch not supported)] (12, 0.0, 10.286875, 'audio_amplitude', 1)\n",
      "2023-05-07 10:00:26,407 INFO sqlalchemy.engine.Engine INSERT INTO units (sequence_id, onset, \"offset\") VALUES (?, ?, ?)\n",
      "2023-05-07 10:00:26,409 INFO sqlalchemy.engine.Engine [generated in 0.00250s] (12, 0.3888125, 10.286875)\n",
      "2023-05-07 10:00:26,411 INFO sqlalchemy.engine.Engine COMMIT\n"
     ]
    },
    {
     "name": "stderr",
     "output_type": "stream",
     "text": [
      "/var/folders/th/rsbsynzn56zbz5vrtgv63yh00000gn/T/ipykernel_19293/355096502.py:46: SAWarning: Object of type <Unit> not in session, add operation along 'Sequence.units' will not proceed\n",
      "  with Session(engine) as session, session.begin():\n"
     ]
    }
   ],
   "source": [
    "to_sqlite(seqs)"
   ]
  },
  {
   "cell_type": "code",
   "execution_count": 21,
   "id": "4a32ebd3-4860-4c0d-a469-7bd4c745f11d",
   "metadata": {
    "tags": []
   },
   "outputs": [
    {
     "name": "stdout",
     "output_type": "stream",
     "text": [
      "2023-05-06 22:27:55,788 INFO sqlalchemy.engine.Engine BEGIN (implicit)\n",
      "2023-05-06 22:27:55,789 INFO sqlalchemy.engine.Engine PRAGMA main.table_info(\"audios\")\n",
      "2023-05-06 22:27:55,790 INFO sqlalchemy.engine.Engine [raw sql] ()\n",
      "2023-05-06 22:27:55,791 INFO sqlalchemy.engine.Engine PRAGMA temp.table_info(\"audios\")\n",
      "2023-05-06 22:27:55,793 INFO sqlalchemy.engine.Engine [raw sql] ()\n",
      "2023-05-06 22:27:55,794 INFO sqlalchemy.engine.Engine PRAGMA main.table_info(\"segment_params\")\n",
      "2023-05-06 22:27:55,796 INFO sqlalchemy.engine.Engine [raw sql] ()\n",
      "2023-05-06 22:27:55,797 INFO sqlalchemy.engine.Engine PRAGMA temp.table_info(\"segment_params\")\n",
      "2023-05-06 22:27:55,798 INFO sqlalchemy.engine.Engine [raw sql] ()\n",
      "2023-05-06 22:27:55,802 INFO sqlalchemy.engine.Engine PRAGMA main.table_info(\"sequences\")\n",
      "2023-05-06 22:27:55,803 INFO sqlalchemy.engine.Engine [raw sql] ()\n",
      "2023-05-06 22:27:55,806 INFO sqlalchemy.engine.Engine PRAGMA temp.table_info(\"sequences\")\n",
      "2023-05-06 22:27:55,807 INFO sqlalchemy.engine.Engine [raw sql] ()\n",
      "2023-05-06 22:27:55,808 INFO sqlalchemy.engine.Engine PRAGMA main.table_info(\"units\")\n",
      "2023-05-06 22:27:55,809 INFO sqlalchemy.engine.Engine [raw sql] ()\n",
      "2023-05-06 22:27:55,812 INFO sqlalchemy.engine.Engine PRAGMA temp.table_info(\"units\")\n",
      "2023-05-06 22:27:55,813 INFO sqlalchemy.engine.Engine [raw sql] ()\n",
      "2023-05-06 22:27:55,816 INFO sqlalchemy.engine.Engine \n",
      "CREATE TABLE audios (\n",
      "\tid INTEGER NOT NULL, \n",
      "\tpath VARCHAR, \n",
      "\tPRIMARY KEY (id)\n",
      ")\n",
      "\n",
      "\n",
      "2023-05-06 22:27:55,818 INFO sqlalchemy.engine.Engine [no key 0.00223s] ()\n",
      "2023-05-06 22:27:55,821 INFO sqlalchemy.engine.Engine \n",
      "CREATE TABLE segment_params (\n",
      "\tid INTEGER NOT NULL, \n",
      "\tpath VARCHAR, \n",
      "\tPRIMARY KEY (id)\n",
      ")\n",
      "\n",
      "\n",
      "2023-05-06 22:27:55,823 INFO sqlalchemy.engine.Engine [no key 0.00167s] ()\n",
      "2023-05-06 22:27:55,826 INFO sqlalchemy.engine.Engine \n",
      "CREATE TABLE sequences (\n",
      "\tid INTEGER NOT NULL, \n",
      "\taudio_id INTEGER, \n",
      "\tonset FLOAT, \n",
      "\t\"offset\" FLOAT, \n",
      "\tmethod VARCHAR, \n",
      "\tsegment_params_id INTEGER, \n",
      "\tPRIMARY KEY (id), \n",
      "\tFOREIGN KEY(audio_id) REFERENCES audios (id), \n",
      "\tFOREIGN KEY(segment_params_id) REFERENCES segment_params (id)\n",
      ")\n",
      "\n",
      "\n",
      "2023-05-06 22:27:55,828 INFO sqlalchemy.engine.Engine [no key 0.00212s] ()\n",
      "2023-05-06 22:27:55,831 INFO sqlalchemy.engine.Engine \n",
      "CREATE TABLE units (\n",
      "\tid INTEGER NOT NULL, \n",
      "\tsequence_id INTEGER, \n",
      "\tonset FLOAT, \n",
      "\t\"offset\" FLOAT, \n",
      "\tPRIMARY KEY (id), \n",
      "\tFOREIGN KEY(sequence_id) REFERENCES sequences (id)\n",
      ")\n",
      "\n",
      "\n",
      "2023-05-06 22:27:55,832 INFO sqlalchemy.engine.Engine [no key 0.00132s] ()\n",
      "2023-05-06 22:27:55,835 INFO sqlalchemy.engine.Engine COMMIT\n"
     ]
    }
   ],
   "source": [
    "engine = get_sqlite_engine(db_path='gy6or6-032312.db')\n",
    "session = get_session(engine)\n",
    "\n",
    "# next line makes tables?\n",
    "Base.metadata.create_all(engine)"
   ]
  },
  {
   "cell_type": "code",
   "execution_count": 1,
   "id": "7beb2de3-da35-4c15-93b5-c0e00ddbbd9d",
   "metadata": {
    "tags": []
   },
   "outputs": [
    {
     "ename": "NameError",
     "evalue": "name 'seqs' is not defined",
     "output_type": "error",
     "traceback": [
      "\u001B[0;31m---------------------------------------------------------------------------\u001B[0m",
      "\u001B[0;31mNameError\u001B[0m                                 Traceback (most recent call last)",
      "Cell \u001B[0;32mIn[1], line 1\u001B[0m\n\u001B[0;32m----> 1\u001B[0m \u001B[43mseqs\u001B[49m[\u001B[38;5;241m0\u001B[39m]\u001B[38;5;241m.\u001B[39msegment_params\n",
      "\u001B[0;31mNameError\u001B[0m: name 'seqs' is not defined"
     ]
    }
   ],
   "source": [
    "seqs[0].segment_params"
   ]
  },
  {
   "cell_type": "code",
   "execution_count": 24,
   "id": "b1e09a96-9b7c-4b3e-bdf2-43b1d0900d52",
   "metadata": {
    "tags": []
   },
   "outputs": [
    {
     "name": "stdout",
     "output_type": "stream",
     "text": [
      "2023-05-06 22:28:02,633 INFO sqlalchemy.engine.Engine BEGIN (implicit)\n",
      "2023-05-06 22:28:02,653 INFO sqlalchemy.engine.Engine SELECT segment_params.id, segment_params.path \n",
      "FROM segment_params \n",
      "WHERE segment_params.path = ?\n",
      "2023-05-06 22:28:02,654 INFO sqlalchemy.engine.Engine [generated in 0.00115s] ('fake-segment-params.json',)\n",
      "2023-05-06 22:28:02,657 INFO sqlalchemy.engine.Engine INSERT INTO segment_params (path) VALUES (?)\n",
      "2023-05-06 22:28:02,658 INFO sqlalchemy.engine.Engine [generated in 0.00096s] ('fake-segment-params.json',)\n",
      "2023-05-06 22:28:02,659 INFO sqlalchemy.engine.Engine COMMIT\n",
      "2023-05-06 22:28:02,662 INFO sqlalchemy.engine.Engine BEGIN (implicit)\n",
      "2023-05-06 22:28:02,664 INFO sqlalchemy.engine.Engine SELECT audios.id, audios.path \n",
      "FROM audios \n",
      "WHERE audios.path = ?\n",
      "2023-05-06 22:28:02,667 INFO sqlalchemy.engine.Engine [generated in 0.00245s] ('tests/data-for-tests/source/audio_cbin_annot_notmat/gy6or6/032312/gy6or6_baseline_230312_0808.138.cbin',)\n",
      "2023-05-06 22:28:02,671 INFO sqlalchemy.engine.Engine INSERT INTO audios (path) VALUES (?)\n",
      "2023-05-06 22:28:02,672 INFO sqlalchemy.engine.Engine [generated in 0.00148s] ('tests/data-for-tests/source/audio_cbin_annot_notmat/gy6or6/032312/gy6or6_baseline_230312_0808.138.cbin',)\n",
      "2023-05-06 22:28:02,674 INFO sqlalchemy.engine.Engine COMMIT\n",
      "2023-05-06 22:28:02,676 INFO sqlalchemy.engine.Engine BEGIN (implicit)\n",
      "2023-05-06 22:28:02,679 INFO sqlalchemy.engine.Engine SELECT audios.id AS audios_id, audios.path AS audios_path \n",
      "FROM audios \n",
      "WHERE audios.id = ?\n",
      "2023-05-06 22:28:02,680 INFO sqlalchemy.engine.Engine [generated in 0.00118s] (1,)\n",
      "2023-05-06 22:28:02,686 INFO sqlalchemy.engine.Engine SELECT segment_params.id AS segment_params_id, segment_params.path AS segment_params_path \n",
      "FROM segment_params \n",
      "WHERE segment_params.id = ?\n",
      "2023-05-06 22:28:02,688 INFO sqlalchemy.engine.Engine [generated in 0.00262s] (1,)\n",
      "2023-05-06 22:28:02,691 INFO sqlalchemy.engine.Engine INSERT INTO sequences (audio_id, onset, \"offset\", method, segment_params_id) VALUES (?, ?, ?, ?, ?)\n",
      "2023-05-06 22:28:02,693 INFO sqlalchemy.engine.Engine [generated in 0.00138s] (1, 0.0, 12.30528125, 'audio_amplitude', 1)\n",
      "2023-05-06 22:28:02,695 INFO sqlalchemy.engine.Engine INSERT INTO units (sequence_id, onset, \"offset\") VALUES (?, ?, ?)\n",
      "2023-05-06 22:28:02,696 INFO sqlalchemy.engine.Engine [generated in 0.00115s] (1, 0.0, 12.30528125)\n",
      "2023-05-06 22:28:02,698 INFO sqlalchemy.engine.Engine COMMIT\n",
      "2023-05-06 22:28:02,702 INFO sqlalchemy.engine.Engine BEGIN (implicit)\n",
      "2023-05-06 22:28:02,703 INFO sqlalchemy.engine.Engine SELECT audios.id, audios.path \n",
      "FROM audios \n",
      "WHERE audios.path = ?\n",
      "2023-05-06 22:28:02,705 INFO sqlalchemy.engine.Engine [cached since 0.04045s ago] ('tests/data-for-tests/source/audio_cbin_annot_notmat/gy6or6/032312/gy6or6_baseline_230312_0809.141.cbin',)\n",
      "2023-05-06 22:28:02,707 INFO sqlalchemy.engine.Engine INSERT INTO audios (path) VALUES (?)\n",
      "2023-05-06 22:28:02,707 INFO sqlalchemy.engine.Engine [cached since 0.03688s ago] ('tests/data-for-tests/source/audio_cbin_annot_notmat/gy6or6/032312/gy6or6_baseline_230312_0809.141.cbin',)\n",
      "2023-05-06 22:28:02,709 INFO sqlalchemy.engine.Engine COMMIT\n",
      "2023-05-06 22:28:02,711 INFO sqlalchemy.engine.Engine BEGIN (implicit)\n",
      "2023-05-06 22:28:02,712 INFO sqlalchemy.engine.Engine SELECT audios.id AS audios_id, audios.path AS audios_path \n",
      "FROM audios \n",
      "WHERE audios.id = ?\n",
      "2023-05-06 22:28:02,714 INFO sqlalchemy.engine.Engine [cached since 0.0344s ago] (2,)\n",
      "2023-05-06 22:28:02,717 INFO sqlalchemy.engine.Engine SELECT segment_params.id AS segment_params_id, segment_params.path AS segment_params_path \n",
      "FROM segment_params \n",
      "WHERE segment_params.id = ?\n",
      "2023-05-06 22:28:02,718 INFO sqlalchemy.engine.Engine [cached since 0.03281s ago] (1,)\n",
      "2023-05-06 22:28:02,720 INFO sqlalchemy.engine.Engine INSERT INTO sequences (audio_id, onset, \"offset\", method, segment_params_id) VALUES (?, ?, ?, ?, ?)\n",
      "2023-05-06 22:28:02,721 INFO sqlalchemy.engine.Engine [cached since 0.02965s ago] (2, 0.0, 8.93928125, 'audio_amplitude', 1)\n",
      "2023-05-06 22:28:02,723 INFO sqlalchemy.engine.Engine INSERT INTO units (sequence_id, onset, \"offset\") VALUES (?, ?, ?)\n",
      "2023-05-06 22:28:02,724 INFO sqlalchemy.engine.Engine [cached since 0.02889s ago] (2, 0.0, 8.93928125)\n",
      "2023-05-06 22:28:02,726 INFO sqlalchemy.engine.Engine COMMIT\n",
      "2023-05-06 22:28:02,728 INFO sqlalchemy.engine.Engine BEGIN (implicit)\n",
      "2023-05-06 22:28:02,729 INFO sqlalchemy.engine.Engine SELECT audios.id, audios.path \n",
      "FROM audios \n",
      "WHERE audios.path = ?\n",
      "2023-05-06 22:28:02,730 INFO sqlalchemy.engine.Engine [cached since 0.066s ago] ('tests/data-for-tests/source/audio_cbin_annot_notmat/gy6or6/032312/gy6or6_baseline_230312_0810.148.cbin',)\n",
      "2023-05-06 22:28:02,732 INFO sqlalchemy.engine.Engine INSERT INTO audios (path) VALUES (?)\n",
      "2023-05-06 22:28:02,734 INFO sqlalchemy.engine.Engine [cached since 0.0639s ago] ('tests/data-for-tests/source/audio_cbin_annot_notmat/gy6or6/032312/gy6or6_baseline_230312_0810.148.cbin',)\n",
      "2023-05-06 22:28:02,736 INFO sqlalchemy.engine.Engine COMMIT\n",
      "2023-05-06 22:28:02,739 INFO sqlalchemy.engine.Engine BEGIN (implicit)\n",
      "2023-05-06 22:28:02,740 INFO sqlalchemy.engine.Engine SELECT audios.id AS audios_id, audios.path AS audios_path \n",
      "FROM audios \n",
      "WHERE audios.id = ?\n",
      "2023-05-06 22:28:02,741 INFO sqlalchemy.engine.Engine [cached since 0.06219s ago] (3,)\n",
      "2023-05-06 22:28:02,743 INFO sqlalchemy.engine.Engine SELECT segment_params.id AS segment_params_id, segment_params.path AS segment_params_path \n",
      "FROM segment_params \n",
      "WHERE segment_params.id = ?\n",
      "2023-05-06 22:28:02,744 INFO sqlalchemy.engine.Engine [cached since 0.0584s ago] (1,)\n",
      "2023-05-06 22:28:02,745 INFO sqlalchemy.engine.Engine INSERT INTO sequences (audio_id, onset, \"offset\", method, segment_params_id) VALUES (?, ?, ?, ?, ?)\n",
      "2023-05-06 22:28:02,746 INFO sqlalchemy.engine.Engine [cached since 0.05482s ago] (3, 0.0, 12.9018125, 'audio_amplitude', 1)\n",
      "2023-05-06 22:28:02,748 INFO sqlalchemy.engine.Engine INSERT INTO units (sequence_id, onset, \"offset\") VALUES (?, ?, ?)\n",
      "2023-05-06 22:28:02,749 INFO sqlalchemy.engine.Engine [cached since 0.05359s ago] (3, 0.0, 12.9018125)\n",
      "2023-05-06 22:28:02,752 INFO sqlalchemy.engine.Engine COMMIT\n",
      "2023-05-06 22:28:02,755 INFO sqlalchemy.engine.Engine BEGIN (implicit)\n",
      "2023-05-06 22:28:02,756 INFO sqlalchemy.engine.Engine SELECT audios.id, audios.path \n",
      "FROM audios \n",
      "WHERE audios.path = ?\n",
      "2023-05-06 22:28:02,757 INFO sqlalchemy.engine.Engine [cached since 0.09308s ago] ('tests/data-for-tests/source/audio_cbin_annot_notmat/gy6or6/032312/gy6or6_baseline_230312_0811.159.cbin',)\n",
      "2023-05-06 22:28:02,759 INFO sqlalchemy.engine.Engine INSERT INTO audios (path) VALUES (?)\n",
      "2023-05-06 22:28:02,760 INFO sqlalchemy.engine.Engine [cached since 0.08956s ago] ('tests/data-for-tests/source/audio_cbin_annot_notmat/gy6or6/032312/gy6or6_baseline_230312_0811.159.cbin',)\n",
      "2023-05-06 22:28:02,762 INFO sqlalchemy.engine.Engine COMMIT\n",
      "2023-05-06 22:28:02,765 INFO sqlalchemy.engine.Engine BEGIN (implicit)\n",
      "2023-05-06 22:28:02,768 INFO sqlalchemy.engine.Engine SELECT audios.id AS audios_id, audios.path AS audios_path \n",
      "FROM audios \n",
      "WHERE audios.id = ?\n",
      "2023-05-06 22:28:02,771 INFO sqlalchemy.engine.Engine [cached since 0.09197s ago] (4,)\n",
      "2023-05-06 22:28:02,773 INFO sqlalchemy.engine.Engine SELECT segment_params.id AS segment_params_id, segment_params.path AS segment_params_path \n",
      "FROM segment_params \n",
      "WHERE segment_params.id = ?\n",
      "2023-05-06 22:28:02,774 INFO sqlalchemy.engine.Engine [cached since 0.08837s ago] (1,)\n",
      "2023-05-06 22:28:02,775 INFO sqlalchemy.engine.Engine INSERT INTO sequences (audio_id, onset, \"offset\", method, segment_params_id) VALUES (?, ?, ?, ?, ?)\n",
      "2023-05-06 22:28:02,776 INFO sqlalchemy.engine.Engine [cached since 0.08455s ago] (4, 0.0001875, 7.953875, 'audio_amplitude', 1)\n",
      "2023-05-06 22:28:02,778 INFO sqlalchemy.engine.Engine INSERT INTO units (sequence_id, onset, \"offset\") VALUES (?, ?, ?)\n",
      "2023-05-06 22:28:02,779 INFO sqlalchemy.engine.Engine [cached since 0.08329s ago] (4, 0.0001875, 7.953875)\n",
      "2023-05-06 22:28:02,780 INFO sqlalchemy.engine.Engine COMMIT\n",
      "2023-05-06 22:28:02,784 INFO sqlalchemy.engine.Engine BEGIN (implicit)\n",
      "2023-05-06 22:28:02,786 INFO sqlalchemy.engine.Engine SELECT audios.id, audios.path \n",
      "FROM audios \n",
      "WHERE audios.path = ?\n",
      "2023-05-06 22:28:02,788 INFO sqlalchemy.engine.Engine [cached since 0.1233s ago] ('tests/data-for-tests/source/audio_cbin_annot_notmat/gy6or6/032312/gy6or6_baseline_230312_0813.163.cbin',)\n",
      "2023-05-06 22:28:02,790 INFO sqlalchemy.engine.Engine INSERT INTO audios (path) VALUES (?)\n",
      "2023-05-06 22:28:02,790 INFO sqlalchemy.engine.Engine [cached since 0.1198s ago] ('tests/data-for-tests/source/audio_cbin_annot_notmat/gy6or6/032312/gy6or6_baseline_230312_0813.163.cbin',)\n",
      "2023-05-06 22:28:02,791 INFO sqlalchemy.engine.Engine COMMIT\n",
      "2023-05-06 22:28:02,795 INFO sqlalchemy.engine.Engine BEGIN (implicit)\n",
      "2023-05-06 22:28:02,797 INFO sqlalchemy.engine.Engine SELECT audios.id AS audios_id, audios.path AS audios_path \n",
      "FROM audios \n",
      "WHERE audios.id = ?\n",
      "2023-05-06 22:28:02,798 INFO sqlalchemy.engine.Engine [cached since 0.1186s ago] (5,)\n",
      "2023-05-06 22:28:02,803 INFO sqlalchemy.engine.Engine SELECT segment_params.id AS segment_params_id, segment_params.path AS segment_params_path \n",
      "FROM segment_params \n",
      "WHERE segment_params.id = ?\n",
      "2023-05-06 22:28:02,804 INFO sqlalchemy.engine.Engine [cached since 0.1181s ago] (1,)\n",
      "2023-05-06 22:28:02,807 INFO sqlalchemy.engine.Engine INSERT INTO sequences (audio_id, onset, \"offset\", method, segment_params_id) VALUES (?, ?, ?, ?, ?)\n",
      "2023-05-06 22:28:02,808 INFO sqlalchemy.engine.Engine [cached since 0.1166s ago] (5, 0.0, 9.884375, 'audio_amplitude', 1)\n",
      "2023-05-06 22:28:02,810 INFO sqlalchemy.engine.Engine INSERT INTO units (sequence_id, onset, \"offset\") VALUES (?, ?, ?)\n",
      "2023-05-06 22:28:02,811 INFO sqlalchemy.engine.Engine [cached since 0.1155s ago] (5, 0.0, 9.884375)\n",
      "2023-05-06 22:28:02,812 INFO sqlalchemy.engine.Engine COMMIT\n",
      "2023-05-06 22:28:02,814 INFO sqlalchemy.engine.Engine BEGIN (implicit)\n",
      "2023-05-06 22:28:02,817 INFO sqlalchemy.engine.Engine SELECT audios.id, audios.path \n",
      "FROM audios \n",
      "WHERE audios.path = ?\n",
      "2023-05-06 22:28:02,819 INFO sqlalchemy.engine.Engine [cached since 0.1541s ago] ('tests/data-for-tests/source/audio_cbin_annot_notmat/gy6or6/032312/gy6or6_baseline_230312_0816.179.cbin',)\n",
      "2023-05-06 22:28:02,821 INFO sqlalchemy.engine.Engine INSERT INTO audios (path) VALUES (?)\n",
      "2023-05-06 22:28:02,822 INFO sqlalchemy.engine.Engine [cached since 0.1512s ago] ('tests/data-for-tests/source/audio_cbin_annot_notmat/gy6or6/032312/gy6or6_baseline_230312_0816.179.cbin',)\n",
      "2023-05-06 22:28:02,823 INFO sqlalchemy.engine.Engine COMMIT\n",
      "2023-05-06 22:28:02,825 INFO sqlalchemy.engine.Engine BEGIN (implicit)\n",
      "2023-05-06 22:28:02,826 INFO sqlalchemy.engine.Engine SELECT audios.id AS audios_id, audios.path AS audios_path \n",
      "FROM audios \n",
      "WHERE audios.id = ?\n",
      "2023-05-06 22:28:02,827 INFO sqlalchemy.engine.Engine [cached since 0.1475s ago] (6,)\n",
      "2023-05-06 22:28:02,828 INFO sqlalchemy.engine.Engine SELECT segment_params.id AS segment_params_id, segment_params.path AS segment_params_path \n",
      "FROM segment_params \n",
      "WHERE segment_params.id = ?\n",
      "2023-05-06 22:28:02,829 INFO sqlalchemy.engine.Engine [cached since 0.1433s ago] (1,)\n",
      "2023-05-06 22:28:02,831 INFO sqlalchemy.engine.Engine INSERT INTO sequences (audio_id, onset, \"offset\", method, segment_params_id) VALUES (?, ?, ?, ?, ?)\n",
      "2023-05-06 22:28:02,832 INFO sqlalchemy.engine.Engine [cached since 0.141s ago] (6, 0.0, 10.027125, 'audio_amplitude', 1)\n",
      "2023-05-06 22:28:02,835 INFO sqlalchemy.engine.Engine INSERT INTO units (sequence_id, onset, \"offset\") VALUES (?, ?, ?)\n",
      "2023-05-06 22:28:02,835 INFO sqlalchemy.engine.Engine [cached since 0.1403s ago] (6, 0.0, 9.31459375)\n",
      "2023-05-06 22:28:02,837 INFO sqlalchemy.engine.Engine INSERT INTO units (sequence_id, onset, \"offset\") VALUES (?, ?, ?)\n",
      "2023-05-06 22:28:02,837 INFO sqlalchemy.engine.Engine [cached since 0.1422s ago] (6, 9.32115625, 10.027125)\n",
      "2023-05-06 22:28:02,839 INFO sqlalchemy.engine.Engine COMMIT\n",
      "2023-05-06 22:28:02,840 INFO sqlalchemy.engine.Engine BEGIN (implicit)\n",
      "2023-05-06 22:28:02,841 INFO sqlalchemy.engine.Engine SELECT audios.id, audios.path \n",
      "FROM audios \n",
      "WHERE audios.path = ?\n",
      "2023-05-06 22:28:02,841 INFO sqlalchemy.engine.Engine [cached since 0.1769s ago] ('tests/data-for-tests/source/audio_cbin_annot_notmat/gy6or6/032312/gy6or6_baseline_230312_0817.183.cbin',)\n",
      "2023-05-06 22:28:02,843 INFO sqlalchemy.engine.Engine INSERT INTO audios (path) VALUES (?)\n",
      "2023-05-06 22:28:02,844 INFO sqlalchemy.engine.Engine [cached since 0.1731s ago] ('tests/data-for-tests/source/audio_cbin_annot_notmat/gy6or6/032312/gy6or6_baseline_230312_0817.183.cbin',)\n",
      "2023-05-06 22:28:02,845 INFO sqlalchemy.engine.Engine COMMIT\n",
      "2023-05-06 22:28:02,847 INFO sqlalchemy.engine.Engine BEGIN (implicit)\n",
      "2023-05-06 22:28:02,848 INFO sqlalchemy.engine.Engine SELECT audios.id AS audios_id, audios.path AS audios_path \n",
      "FROM audios \n",
      "WHERE audios.id = ?\n",
      "2023-05-06 22:28:02,850 INFO sqlalchemy.engine.Engine [cached since 0.1708s ago] (7,)\n",
      "2023-05-06 22:28:02,853 INFO sqlalchemy.engine.Engine SELECT segment_params.id AS segment_params_id, segment_params.path AS segment_params_path \n",
      "FROM segment_params \n",
      "WHERE segment_params.id = ?\n",
      "2023-05-06 22:28:02,854 INFO sqlalchemy.engine.Engine [cached since 0.1683s ago] (1,)\n",
      "2023-05-06 22:28:02,856 INFO sqlalchemy.engine.Engine INSERT INTO sequences (audio_id, onset, \"offset\", method, segment_params_id) VALUES (?, ?, ?, ?, ?)\n",
      "2023-05-06 22:28:02,857 INFO sqlalchemy.engine.Engine [cached since 0.1656s ago] (7, 0.0, 9.25090625, 'audio_amplitude', 1)\n",
      "2023-05-06 22:28:02,858 INFO sqlalchemy.engine.Engine INSERT INTO units (sequence_id, onset, \"offset\") VALUES (?, ?, ?)\n",
      "2023-05-06 22:28:02,859 INFO sqlalchemy.engine.Engine [cached since 0.164s ago] (7, 0.0, 9.25090625)\n",
      "2023-05-06 22:28:02,860 INFO sqlalchemy.engine.Engine COMMIT\n",
      "2023-05-06 22:28:02,862 INFO sqlalchemy.engine.Engine BEGIN (implicit)\n",
      "2023-05-06 22:28:02,862 INFO sqlalchemy.engine.Engine SELECT audios.id, audios.path \n",
      "FROM audios \n",
      "WHERE audios.path = ?\n",
      "2023-05-06 22:28:02,863 INFO sqlalchemy.engine.Engine [cached since 0.1987s ago] ('tests/data-for-tests/source/audio_cbin_annot_notmat/gy6or6/032312/gy6or6_baseline_230312_0819.190.cbin',)\n",
      "2023-05-06 22:28:02,865 INFO sqlalchemy.engine.Engine INSERT INTO audios (path) VALUES (?)\n",
      "2023-05-06 22:28:02,867 INFO sqlalchemy.engine.Engine [cached since 0.1963s ago] ('tests/data-for-tests/source/audio_cbin_annot_notmat/gy6or6/032312/gy6or6_baseline_230312_0819.190.cbin',)\n",
      "2023-05-06 22:28:02,869 INFO sqlalchemy.engine.Engine COMMIT\n",
      "2023-05-06 22:28:02,871 INFO sqlalchemy.engine.Engine BEGIN (implicit)\n",
      "2023-05-06 22:28:02,873 INFO sqlalchemy.engine.Engine SELECT audios.id AS audios_id, audios.path AS audios_path \n",
      "FROM audios \n",
      "WHERE audios.id = ?\n",
      "2023-05-06 22:28:02,873 INFO sqlalchemy.engine.Engine [cached since 0.1943s ago] (8,)\n",
      "2023-05-06 22:28:02,875 INFO sqlalchemy.engine.Engine SELECT segment_params.id AS segment_params_id, segment_params.path AS segment_params_path \n",
      "FROM segment_params \n",
      "WHERE segment_params.id = ?\n",
      "2023-05-06 22:28:02,875 INFO sqlalchemy.engine.Engine [cached since 0.1897s ago] (1,)\n",
      "2023-05-06 22:28:02,876 INFO sqlalchemy.engine.Engine INSERT INTO sequences (audio_id, onset, \"offset\", method, segment_params_id) VALUES (?, ?, ?, ?, ?)\n",
      "2023-05-06 22:28:02,877 INFO sqlalchemy.engine.Engine [cached since 0.1856s ago] (8, 0.0, 8.53625, 'audio_amplitude', 1)\n",
      "2023-05-06 22:28:02,878 INFO sqlalchemy.engine.Engine INSERT INTO units (sequence_id, onset, \"offset\") VALUES (?, ?, ?)\n",
      "2023-05-06 22:28:02,878 INFO sqlalchemy.engine.Engine [cached since 0.1833s ago] (8, 0.0, 4.3111875)\n",
      "2023-05-06 22:28:02,879 INFO sqlalchemy.engine.Engine INSERT INTO units (sequence_id, onset, \"offset\") VALUES (?, ?, ?)\n",
      "2023-05-06 22:28:02,880 INFO sqlalchemy.engine.Engine [cached since 0.1846s ago] (8, 4.31746875, 8.53625)\n",
      "2023-05-06 22:28:02,881 INFO sqlalchemy.engine.Engine COMMIT\n",
      "2023-05-06 22:28:02,884 INFO sqlalchemy.engine.Engine BEGIN (implicit)\n",
      "2023-05-06 22:28:02,885 INFO sqlalchemy.engine.Engine SELECT audios.id, audios.path \n",
      "FROM audios \n",
      "WHERE audios.path = ?\n",
      "2023-05-06 22:28:02,886 INFO sqlalchemy.engine.Engine [cached since 0.2221s ago] ('tests/data-for-tests/source/audio_cbin_annot_notmat/gy6or6/032312/gy6or6_baseline_230312_0820.196.cbin',)\n",
      "2023-05-06 22:28:02,888 INFO sqlalchemy.engine.Engine INSERT INTO audios (path) VALUES (?)\n",
      "2023-05-06 22:28:02,889 INFO sqlalchemy.engine.Engine [cached since 0.2181s ago] ('tests/data-for-tests/source/audio_cbin_annot_notmat/gy6or6/032312/gy6or6_baseline_230312_0820.196.cbin',)\n",
      "2023-05-06 22:28:02,889 INFO sqlalchemy.engine.Engine COMMIT\n",
      "2023-05-06 22:28:02,892 INFO sqlalchemy.engine.Engine BEGIN (implicit)\n",
      "2023-05-06 22:28:02,893 INFO sqlalchemy.engine.Engine SELECT audios.id AS audios_id, audios.path AS audios_path \n",
      "FROM audios \n",
      "WHERE audios.id = ?\n",
      "2023-05-06 22:28:02,894 INFO sqlalchemy.engine.Engine [cached since 0.2149s ago] (9,)\n",
      "2023-05-06 22:28:02,895 INFO sqlalchemy.engine.Engine SELECT segment_params.id AS segment_params_id, segment_params.path AS segment_params_path \n",
      "FROM segment_params \n",
      "WHERE segment_params.id = ?\n",
      "2023-05-06 22:28:02,897 INFO sqlalchemy.engine.Engine [cached since 0.2109s ago] (1,)\n",
      "2023-05-06 22:28:02,898 INFO sqlalchemy.engine.Engine INSERT INTO sequences (audio_id, onset, \"offset\", method, segment_params_id) VALUES (?, ?, ?, ?, ?)\n",
      "2023-05-06 22:28:02,901 INFO sqlalchemy.engine.Engine [cached since 0.21s ago] (9, 0.0, 9.31465625, 'audio_amplitude', 1)\n",
      "2023-05-06 22:28:02,903 INFO sqlalchemy.engine.Engine INSERT INTO units (sequence_id, onset, \"offset\") VALUES (?, ?, ?)\n",
      "2023-05-06 22:28:02,904 INFO sqlalchemy.engine.Engine [cached since 0.2092s ago] (9, 0.0, 7.6936875)\n",
      "2023-05-06 22:28:02,906 INFO sqlalchemy.engine.Engine INSERT INTO units (sequence_id, onset, \"offset\") VALUES (?, ?, ?)\n",
      "2023-05-06 22:28:02,908 INFO sqlalchemy.engine.Engine [cached since 0.2123s ago] (9, 7.70190625, 9.31465625)\n",
      "2023-05-06 22:28:02,909 INFO sqlalchemy.engine.Engine COMMIT\n",
      "2023-05-06 22:28:02,910 INFO sqlalchemy.engine.Engine BEGIN (implicit)\n",
      "2023-05-06 22:28:02,911 INFO sqlalchemy.engine.Engine SELECT audios.id, audios.path \n",
      "FROM audios \n",
      "WHERE audios.path = ?\n",
      "2023-05-06 22:28:02,912 INFO sqlalchemy.engine.Engine [cached since 0.2475s ago] ('tests/data-for-tests/source/audio_cbin_annot_notmat/gy6or6/032312/gy6or6_baseline_230312_0821.202.cbin',)\n",
      "2023-05-06 22:28:02,914 INFO sqlalchemy.engine.Engine INSERT INTO audios (path) VALUES (?)\n",
      "2023-05-06 22:28:02,914 INFO sqlalchemy.engine.Engine [cached since 0.2439s ago] ('tests/data-for-tests/source/audio_cbin_annot_notmat/gy6or6/032312/gy6or6_baseline_230312_0821.202.cbin',)\n",
      "2023-05-06 22:28:02,916 INFO sqlalchemy.engine.Engine COMMIT\n",
      "2023-05-06 22:28:02,922 INFO sqlalchemy.engine.Engine BEGIN (implicit)\n",
      "2023-05-06 22:28:02,923 INFO sqlalchemy.engine.Engine SELECT audios.id AS audios_id, audios.path AS audios_path \n",
      "FROM audios \n",
      "WHERE audios.id = ?\n",
      "2023-05-06 22:28:02,924 INFO sqlalchemy.engine.Engine [cached since 0.2449s ago] (10,)\n",
      "2023-05-06 22:28:02,926 INFO sqlalchemy.engine.Engine SELECT segment_params.id AS segment_params_id, segment_params.path AS segment_params_path \n",
      "FROM segment_params \n",
      "WHERE segment_params.id = ?\n",
      "2023-05-06 22:28:02,926 INFO sqlalchemy.engine.Engine [cached since 0.2408s ago] (1,)\n",
      "2023-05-06 22:28:02,928 INFO sqlalchemy.engine.Engine INSERT INTO sequences (audio_id, onset, \"offset\", method, segment_params_id) VALUES (?, ?, ?, ?, ?)\n",
      "2023-05-06 22:28:02,929 INFO sqlalchemy.engine.Engine [cached since 0.2374s ago] (10, 0.0, 7.02346875, 'audio_amplitude', 1)\n",
      "2023-05-06 22:28:02,930 INFO sqlalchemy.engine.Engine INSERT INTO units (sequence_id, onset, \"offset\") VALUES (?, ?, ?)\n",
      "2023-05-06 22:28:02,933 INFO sqlalchemy.engine.Engine [cached since 0.2377s ago] (10, 0.0, 7.02346875)\n",
      "2023-05-06 22:28:02,936 INFO sqlalchemy.engine.Engine COMMIT\n",
      "2023-05-06 22:28:02,937 INFO sqlalchemy.engine.Engine BEGIN (implicit)\n",
      "2023-05-06 22:28:02,939 INFO sqlalchemy.engine.Engine SELECT audios.id, audios.path \n",
      "FROM audios \n",
      "WHERE audios.path = ?\n",
      "2023-05-06 22:28:02,940 INFO sqlalchemy.engine.Engine [cached since 0.2753s ago] ('tests/data-for-tests/source/audio_cbin_annot_notmat/gy6or6/032312/gy6or6_baseline_230312_0918.584.cbin',)\n",
      "2023-05-06 22:28:02,941 INFO sqlalchemy.engine.Engine INSERT INTO audios (path) VALUES (?)\n",
      "2023-05-06 22:28:02,942 INFO sqlalchemy.engine.Engine [cached since 0.2715s ago] ('tests/data-for-tests/source/audio_cbin_annot_notmat/gy6or6/032312/gy6or6_baseline_230312_0918.584.cbin',)\n",
      "2023-05-06 22:28:02,943 INFO sqlalchemy.engine.Engine COMMIT\n",
      "2023-05-06 22:28:02,946 INFO sqlalchemy.engine.Engine BEGIN (implicit)\n",
      "2023-05-06 22:28:02,947 INFO sqlalchemy.engine.Engine SELECT audios.id AS audios_id, audios.path AS audios_path \n",
      "FROM audios \n",
      "WHERE audios.id = ?\n",
      "2023-05-06 22:28:02,950 INFO sqlalchemy.engine.Engine [cached since 0.2705s ago] (11,)\n",
      "2023-05-06 22:28:02,954 INFO sqlalchemy.engine.Engine SELECT segment_params.id AS segment_params_id, segment_params.path AS segment_params_path \n",
      "FROM segment_params \n",
      "WHERE segment_params.id = ?\n",
      "2023-05-06 22:28:02,955 INFO sqlalchemy.engine.Engine [cached since 0.2698s ago] (1,)\n",
      "2023-05-06 22:28:02,957 INFO sqlalchemy.engine.Engine INSERT INTO sequences (audio_id, onset, \"offset\", method, segment_params_id) VALUES (?, ?, ?, ?, ?)\n",
      "2023-05-06 22:28:02,958 INFO sqlalchemy.engine.Engine [cached since 0.2669s ago] (11, 0.0, 11.16540625, 'audio_amplitude', 1)\n",
      "2023-05-06 22:28:02,960 INFO sqlalchemy.engine.Engine INSERT INTO units (sequence_id, onset, \"offset\") VALUES (?, ?, ?)\n",
      "2023-05-06 22:28:02,960 INFO sqlalchemy.engine.Engine [cached since 0.2652s ago] (11, 0.0, 11.16540625)\n",
      "2023-05-06 22:28:02,961 INFO sqlalchemy.engine.Engine COMMIT\n",
      "2023-05-06 22:28:02,963 INFO sqlalchemy.engine.Engine BEGIN (implicit)\n",
      "2023-05-06 22:28:02,964 INFO sqlalchemy.engine.Engine SELECT audios.id, audios.path \n",
      "FROM audios \n",
      "WHERE audios.path = ?\n",
      "2023-05-06 22:28:02,967 INFO sqlalchemy.engine.Engine [cached since 0.3024s ago] ('tests/data-for-tests/source/audio_cbin_annot_notmat/gy6or6/032312/gy6or6_baseline_230312_1054.1329.cbin',)\n",
      "2023-05-06 22:28:02,970 INFO sqlalchemy.engine.Engine INSERT INTO audios (path) VALUES (?)\n",
      "2023-05-06 22:28:02,972 INFO sqlalchemy.engine.Engine [cached since 0.3013s ago] ('tests/data-for-tests/source/audio_cbin_annot_notmat/gy6or6/032312/gy6or6_baseline_230312_1054.1329.cbin',)\n",
      "2023-05-06 22:28:02,974 INFO sqlalchemy.engine.Engine COMMIT\n",
      "2023-05-06 22:28:02,976 INFO sqlalchemy.engine.Engine BEGIN (implicit)\n",
      "2023-05-06 22:28:02,977 INFO sqlalchemy.engine.Engine SELECT audios.id AS audios_id, audios.path AS audios_path \n",
      "FROM audios \n",
      "WHERE audios.id = ?\n",
      "2023-05-06 22:28:02,978 INFO sqlalchemy.engine.Engine [cached since 0.299s ago] (12,)\n",
      "2023-05-06 22:28:02,979 INFO sqlalchemy.engine.Engine SELECT segment_params.id AS segment_params_id, segment_params.path AS segment_params_path \n",
      "FROM segment_params \n",
      "WHERE segment_params.id = ?\n",
      "2023-05-06 22:28:02,980 INFO sqlalchemy.engine.Engine [cached since 0.2948s ago] (1,)\n",
      "2023-05-06 22:28:02,982 INFO sqlalchemy.engine.Engine INSERT INTO sequences (audio_id, onset, \"offset\", method, segment_params_id) VALUES (?, ?, ?, ?, ?)\n",
      "2023-05-06 22:28:02,985 INFO sqlalchemy.engine.Engine [cached since 0.2934s ago] (12, 0.0, 10.286875, 'audio_amplitude', 1)\n",
      "2023-05-06 22:28:02,987 INFO sqlalchemy.engine.Engine INSERT INTO units (sequence_id, onset, \"offset\") VALUES (?, ?, ?)\n",
      "2023-05-06 22:28:02,988 INFO sqlalchemy.engine.Engine [cached since 0.293s ago] (12, 0.0, 0.3825)\n",
      "2023-05-06 22:28:02,989 INFO sqlalchemy.engine.Engine INSERT INTO units (sequence_id, onset, \"offset\") VALUES (?, ?, ?)\n",
      "2023-05-06 22:28:02,990 INFO sqlalchemy.engine.Engine [cached since 0.295s ago] (12, 0.3888125, 10.286875)\n",
      "2023-05-06 22:28:02,992 INFO sqlalchemy.engine.Engine COMMIT\n"
     ]
    }
   ],
   "source": [
    "# make segment params\n",
    "# should do this in real method by applying set to all Sequence.segment_params instances\n",
    "segment_params = get_or_add_segment_params(session, path='fake-segment-params.json')\n",
    "\n",
    "# TODO: write this so that we always re-create the whole thing from scratch;\n",
    "# don't bother checking whether anything is in the database because we *know* we just made it\n",
    "# that's the whole point\n",
    "\n",
    "for seq in seqs:\n",
    "    # make and add audio\n",
    "    audio = Audio(path=str(path))\n",
    "    session.add(audio)\n",
    "\n",
    "    # make and add sequence, referring to audio and segment params\n",
    "    sequence = Sequence(\n",
    "        audio=audio,\n",
    "        segment_params=segment_params,\n",
    "        onset=seq.onset,\n",
    "        offset=seq.offset,\n",
    "        method=seq.method,\n",
    "    )\n",
    "    session.add(sequence)\n",
    "    \n",
    "    # make and add units\n",
    "    for seq_unit in seq.units:\n",
    "        unit = Unit(\n",
    "            onset=seq_unit.onset,\n",
    "            offset=seq_unit.offset,\n",
    "            sequence=sequence\n",
    "        )\n",
    "        session.add(unit)"
   ]
  },
  {
   "cell_type": "code",
   "execution_count": null,
   "id": "c441a358-4a20-4c9d-9f50-f2c634d6d376",
   "metadata": {
    "tags": []
   },
   "outputs": [],
   "source": [
    "@model(family=WindowedFrameClassificationModel)\n",
    "class WindowedTweetyNet:\n",
    "    network = nets.TweetyNet\n",
    "    ...\n",
    "\n",
    "\n",
    "@model(family=FrameClassificationModel)\n",
    "class WholeSpectrogramTweetyNet:\n",
    "    network = nets.TweetyNet\n",
    "    ..."
   ]
  }
 ],
 "metadata": {
  "kernelspec": {
   "display_name": "Python 3 (ipykernel)",
   "language": "python",
   "name": "python3"
  },
  "language_info": {
   "codemirror_mode": {
    "name": "ipython",
    "version": 3
   },
   "file_extension": ".py",
   "mimetype": "text/x-python",
   "name": "python",
   "nbconvert_exporter": "python",
   "pygments_lexer": "ipython3",
   "version": "3.10.10"
  }
 },
 "nbformat": 4,
 "nbformat_minor": 5
}
