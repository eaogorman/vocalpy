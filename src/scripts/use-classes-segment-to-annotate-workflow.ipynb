{
 "cells": [
  {
   "cell_type": "code",
   "execution_count": 1,
   "id": "f26db875-a8e0-4c86-9bf8-e9772f40762a",
   "metadata": {
    "tags": []
   },
   "outputs": [],
   "source": [
    "import json\n",
    "import pathlib"
   ]
  },
  {
   "cell_type": "code",
   "execution_count": 2,
   "id": "68797005-c251-46e7-acd8-2720257ef397",
   "metadata": {
    "tags": []
   },
   "outputs": [
    {
     "name": "stdout",
     "output_type": "stream",
     "text": [
      "/Users/davidnicholson/Documents/repos/coding/vocalpy/vocalpy\n"
     ]
    }
   ],
   "source": [
    "cd /Users/davidnicholson/Documents/repos/coding/vocalpy/vocalpy"
   ]
  },
  {
   "cell_type": "code",
   "execution_count": 3,
   "id": "01e08ecd-e844-46d4-a216-95eca8d0b48a",
   "metadata": {
    "tags": []
   },
   "outputs": [
    {
     "name": "stdout",
     "output_type": "stream",
     "text": [
      "\u001B[1m\u001B[36m032312\u001B[m\u001B[m/ \u001B[1m\u001B[36m032412\u001B[m\u001B[m/\n"
     ]
    }
   ],
   "source": [
    "ls tests/data-for-tests/source/audio_cbin_annot_notmat/gy6or6/"
   ]
  },
  {
   "cell_type": "code",
   "execution_count": 4,
   "id": "a5a0b012-3b48-4ca5-b5a5-ca4c5fed5c78",
   "metadata": {
    "tags": []
   },
   "outputs": [
    {
     "name": "stdout",
     "output_type": "stream",
     "text": [
      "[########################################] | 100% Completed | 106.05 ms\n"
     ]
    }
   ],
   "source": [
    "import evfuncs\n",
    "import vocalpy as voc\n",
    "\n",
    "data_dir = 'tests/data-for-tests/source/audio_cbin_annot_notmat/gy6or6/032312/'\n",
    "\n",
    "cbin_paths = voc.paths.from_dir(data_dir, 'cbin')\n",
    "audios = [voc.Audio.read(cbin_path) for cbin_path in cbin_paths]\n",
    "\n",
    "audios = [voc.Audio.read(cbin_path) for cbin_path in cbin_paths]\n",
    "\n",
    "\n",
    "segment_params = {\n",
    "    'threshold': 1500,\n",
    "    'min_syl_dur': 0.01,\n",
    "    'min_silent_dur': 0.006,\n",
    "}\n",
    "segmenter = voc.Segmenter(\n",
    "    callback=evfuncs.segment_song, \n",
    "    segment_params=segment_params\n",
    ")\n",
    "\n",
    "seqs = segmenter.segment(audios)\n",
    "\n",
    "seq_dataset = voc.dataset.SequenceDataset(sequences=seqs)\n",
    "\n",
    "seq_dataset.to_sqlite(db_name='gy6or6-032312.db', replace=True)"
   ]
  },
  {
   "cell_type": "code",
   "execution_count": 5,
   "id": "2730311b-5d3e-4bad-960d-b00a0b429858",
   "metadata": {
    "tags": []
   },
   "outputs": [],
   "source": [
    "other_seq_dataset = voc.dataset.SequenceDataset.from_sqlite(db_name='gy6or6-032312.db')"
   ]
  },
  {
   "cell_type": "code",
   "execution_count": 6,
   "id": "c36c2798-7734-4c2f-885d-950e3c22a50c",
   "metadata": {
    "tags": []
   },
   "outputs": [
    {
     "data": {
      "text/plain": [
       "True"
      ]
     },
     "execution_count": 6,
     "metadata": {},
     "output_type": "execute_result"
    }
   ],
   "source": [
    "other_seq_dataset == seq_dataset"
   ]
  },
  {
   "cell_type": "code",
   "execution_count": 7,
   "id": "b3042bd7-8cd2-4bc6-ad6b-c27729d98450",
   "metadata": {
    "tags": []
   },
   "outputs": [
    {
     "data": {
      "text/plain": [
       "SequenceDataset(sequences=[Sequence(units=[Unit(onset=2.18934375, offset=2.21, label='-', audio=None, spectrogram=None), Unit(onset=2.346125, offset=2.373125, label='-', audio=None, spectrogram=None), Unit(onset=2.50471875, offset=2.51546875, label='-', audio=None, spectrogram=None), Unit(onset=2.81909375, offset=2.84740625, label='-', audio=None, spectrogram=None), Unit(onset=3.44878125, offset=3.4676875, label='-', audio=None, spectrogram=None), Unit(onset=3.51753125, offset=3.565875, label='-', audio=None, spectrogram=None), Unit(onset=3.6085625, offset=3.6390625, label='-', audio=None, spectrogram=None), Unit(onset=3.68625, offset=3.7098125, label='-', audio=None, spectrogram=None), Unit(onset=3.747875, offset=3.761125, label='-', audio=None, spectrogram=None), Unit(onset=4.0930625, offset=4.123375, label='-', audio=None, spectrogram=None), Unit(onset=4.75184375, offset=4.7740625, label='-', audio=None, spectrogram=None), Unit(onset=4.8950625, offset=4.94246875, label='-', audio=None, spectrogram=None), Unit(onset=5.04271875, offset=5.0766875, label='-', audio=None, spectrogram=None), Unit(onset=5.4103125, offset=5.439875, label='-', audio=None, spectrogram=None), Unit(onset=6.16421875, offset=6.188, label='-', audio=None, spectrogram=None), Unit(onset=6.2303125, offset=6.26034375, label='-', audio=None, spectrogram=None), Unit(onset=6.31225, offset=6.32859375, label='-', audio=None, spectrogram=None), Unit(onset=6.3794375, offset=6.401125, label='-', audio=None, spectrogram=None), Unit(onset=8.208625, offset=8.22925, label='-', audio=None, spectrogram=None), Unit(onset=8.38196875, offset=8.405125, label='-', audio=None, spectrogram=None), Unit(onset=8.4529375, offset=8.47090625, label='-', audio=None, spectrogram=None), Unit(onset=8.53165625, offset=8.54715625, label='-', audio=None, spectrogram=None), Unit(onset=8.8598125, offset=8.8893125, label='-', audio=None, spectrogram=None), Unit(onset=9.51828125, offset=9.53134375, label='-', audio=None, spectrogram=None), Unit(onset=9.6163125, offset=9.63709375, label='-', audio=None, spectrogram=None), Unit(onset=9.6838125, offset=9.716, label='-', audio=None, spectrogram=None), Unit(onset=9.7635625, offset=9.788625, label='-', audio=None, spectrogram=None), Unit(onset=9.83603125, offset=9.87253125, label='-', audio=None, spectrogram=None), Unit(onset=10.188, offset=10.22290625, label='-', audio=None, spectrogram=None)], method='segment_song', segment_params={'threshold': 1500, 'min_syl_dur': 0.01, 'min_silent_dur': 0.006}, audio=vocalpy.Audio(data=array([-230, ..., dtype=int16), samplerate=32000, channels=1), path=tests/data-for-tests/source/audio_cbin_annot_notmat/gy6or6/032312/gy6or6_baseline_230312_0808.138.cbin), spectrogram=None), Sequence(units=[Unit(onset=2.19075, offset=2.20428125, label='-', audio=None, spectrogram=None), Unit(onset=2.35478125, offset=2.38815625, label='-', audio=None, spectrogram=None), Unit(onset=2.8410625, offset=2.86715625, label='-', audio=None, spectrogram=None), Unit(onset=3.48234375, offset=3.49371875, label='-', audio=None, spectrogram=None), Unit(onset=3.57021875, offset=3.60296875, label='-', audio=None, spectrogram=None), Unit(onset=3.64403125, offset=3.67721875, label='-', audio=None, spectrogram=None), Unit(onset=3.72228125, offset=3.74478125, label='-', audio=None, spectrogram=None), Unit(onset=3.8036875, offset=3.8158125, label='-', audio=None, spectrogram=None), Unit(onset=3.82328125, offset=3.83646875, label='-', audio=None, spectrogram=None), Unit(onset=4.13759375, offset=4.16346875, label='-', audio=None, spectrogram=None), Unit(onset=4.80278125, offset=4.814, label='-', audio=None, spectrogram=None), Unit(onset=4.908125, offset=4.922875, label='-', audio=None, spectrogram=None), Unit(onset=4.9643125, offset=4.992625, label='-', audio=None, spectrogram=None), Unit(onset=5.039625, offset=5.0506875, label='-', audio=None, spectrogram=None), Unit(onset=5.10165625, offset=5.1385, label='-', audio=None, spectrogram=None), Unit(onset=5.146875, offset=5.16203125, label='-', audio=None, spectrogram=None), Unit(onset=5.46390625, offset=5.49409375, label='-', audio=None, spectrogram=None), Unit(onset=6.14503125, offset=6.1565625, label='-', audio=None, spectrogram=None), Unit(onset=6.31003125, offset=6.346125, label='-', audio=None, spectrogram=None), Unit(onset=6.38996875, offset=6.4018125, label='-', audio=None, spectrogram=None), Unit(onset=6.46053125, offset=6.4796875, label='-', audio=None, spectrogram=None), Unit(onset=6.83525, offset=6.8643125, label='-', audio=None, spectrogram=None)], method='segment_song', segment_params={'threshold': 1500, 'min_syl_dur': 0.01, 'min_silent_dur': 0.006}, audio=vocalpy.Audio(data=array([ 366, ..., dtype=int16), samplerate=32000, channels=1), path=tests/data-for-tests/source/audio_cbin_annot_notmat/gy6or6/032312/gy6or6_baseline_230312_0809.141.cbin), spectrogram=None), Sequence(units=[Unit(onset=2.58859375, offset=2.60715625, label='-', audio=None, spectrogram=None), Unit(onset=2.682875, offset=2.705, label='-', audio=None, spectrogram=None), Unit(onset=2.7329375, offset=2.74484375, label='-', audio=None, spectrogram=None), Unit(onset=2.75090625, offset=2.78359375, label='-', audio=None, spectrogram=None), Unit(onset=2.824625, offset=2.83465625, label='-', audio=None, spectrogram=None), Unit(onset=2.897625, offset=2.9165625, label='-', audio=None, spectrogram=None), Unit(onset=3.2250625, offset=3.2574375, label='-', audio=None, spectrogram=None), Unit(onset=3.8664375, offset=3.8879375, label='-', audio=None, spectrogram=None), Unit(onset=3.961875, offset=3.9865, label='-', audio=None, spectrogram=None), Unit(onset=4.02928125, offset=4.06228125, label='-', audio=None, spectrogram=None), Unit(onset=4.104, offset=4.12721875, label='-', audio=None, spectrogram=None), Unit(onset=4.1814375, offset=4.21678125, label='-', audio=None, spectrogram=None), Unit(onset=4.516375, offset=4.54803125, label='-', audio=None, spectrogram=None), Unit(onset=4.97271875, offset=4.98346875, label='-', audio=None, spectrogram=None), Unit(onset=5.17415625, offset=5.19340625, label='-', audio=None, spectrogram=None), Unit(onset=5.26484375, offset=5.280125, label='-', audio=None, spectrogram=None), Unit(onset=5.32025, offset=5.36709375, label='-', audio=None, spectrogram=None), Unit(onset=5.4149375, offset=5.43625, label='-', audio=None, spectrogram=None), Unit(onset=5.47871875, offset=5.52996875, label='-', audio=None, spectrogram=None), Unit(onset=5.83034375, offset=5.85959375, label='-', audio=None, spectrogram=None), Unit(onset=6.575, offset=6.58578125, label='-', audio=None, spectrogram=None), Unit(onset=6.638375, offset=6.6725625, label='-', audio=None, spectrogram=None), Unit(onset=6.70109375, offset=6.719625, label='-', audio=None, spectrogram=None), Unit(onset=6.72628125, offset=6.7425, label='-', audio=None, spectrogram=None), Unit(onset=6.78696875, offset=6.80728125, label='-', audio=None, spectrogram=None), Unit(onset=7.13134375, offset=7.16371875, label='-', audio=None, spectrogram=None), Unit(onset=7.79471875, offset=7.81684375, label='-', audio=None, spectrogram=None), Unit(onset=7.9591875, offset=7.99121875, label='-', audio=None, spectrogram=None), Unit(onset=8.04340625, offset=8.06228125, label='-', audio=None, spectrogram=None), Unit(onset=8.10690625, offset=8.13546875, label='-', audio=None, spectrogram=None), Unit(onset=8.46459375, offset=8.50084375, label='-', audio=None, spectrogram=None), Unit(onset=9.14284375, offset=9.1626875, label='-', audio=None, spectrogram=None), Unit(onset=9.23559375, offset=9.25453125, label='-', audio=None, spectrogram=None), Unit(onset=9.30840625, offset=9.34009375, label='-', audio=None, spectrogram=None), Unit(onset=9.388375, offset=9.4030625, label='-', audio=None, spectrogram=None), Unit(onset=9.46271875, offset=9.48203125, label='-', audio=None, spectrogram=None), Unit(onset=9.82925, offset=9.85696875, label='-', audio=None, spectrogram=None), Unit(onset=10.53728125, offset=10.55671875, label='-', audio=None, spectrogram=None), Unit(onset=10.64778125, offset=10.6636875, label='-', audio=None, spectrogram=None), Unit(onset=10.70203125, offset=10.73671875, label='-', audio=None, spectrogram=None), Unit(onset=10.76571875, offset=10.8055625, label='-', audio=None, spectrogram=None), Unit(onset=10.85109375, offset=10.877, label='-', audio=None, spectrogram=None)], method='segment_song', segment_params={'threshold': 1500, 'min_syl_dur': 0.01, 'min_silent_dur': 0.006}, audio=vocalpy.Audio(data=array([ 137, ..., dtype=int16), samplerate=32000, channels=1), path=tests/data-for-tests/source/audio_cbin_annot_notmat/gy6or6/032312/gy6or6_baseline_230312_0810.148.cbin), spectrogram=None), Sequence(units=[Unit(onset=2.18596875, offset=2.19940625, label='-', audio=None, spectrogram=None), Unit(onset=2.29265625, offset=2.3035625, label='-', audio=None, spectrogram=None), Unit(onset=2.3471875, offset=2.36015625, label='-', audio=None, spectrogram=None), Unit(onset=2.8234375, offset=2.8545625, label='-', audio=None, spectrogram=None), Unit(onset=3.63071875, offset=3.6610625, label='-', audio=None, spectrogram=None), Unit(onset=3.693, offset=3.71659375, label='-', audio=None, spectrogram=None), Unit(onset=3.72359375, offset=3.7365625, label='-', audio=None, spectrogram=None), Unit(onset=3.7649375, offset=3.7960625, label='-', audio=None, spectrogram=None), Unit(onset=4.1198125, offset=4.15059375, label='-', audio=None, spectrogram=None), Unit(onset=4.781875, offset=4.793625, label='-', audio=None, spectrogram=None), Unit(onset=4.92771875, offset=4.93778125, label='-', audio=None, spectrogram=None), Unit(onset=4.946, offset=4.9745625, label='-', audio=None, spectrogram=None), Unit(onset=5.0959375, offset=5.10640625, label='-', audio=None, spectrogram=None), Unit(onset=5.4459375, offset=5.4736875, label='-', audio=None, spectrogram=None)], method='segment_song', segment_params={'threshold': 1500, 'min_syl_dur': 0.01, 'min_silent_dur': 0.006}, audio=vocalpy.Audio(data=array([-16, -..., dtype=int16), samplerate=32000, channels=1), path=tests/data-for-tests/source/audio_cbin_annot_notmat/gy6or6/032312/gy6or6_baseline_230312_0811.159.cbin), spectrogram=None), Sequence(units=[Unit(onset=2.1895, offset=2.2001875, label='-', audio=None, spectrogram=None), Unit(onset=2.3546875, offset=2.36521875, label='-', audio=None, spectrogram=None), Unit(onset=2.8408125, offset=2.86890625, label='-', audio=None, spectrogram=None), Unit(onset=3.59403125, offset=3.61153125, label='-', audio=None, spectrogram=None), Unit(onset=3.6415, offset=3.67246875, label='-', audio=None, spectrogram=None), Unit(onset=3.73221875, offset=3.74315625, label='-', audio=None, spectrogram=None), Unit(onset=3.79003125, offset=3.8185625, label='-', audio=None, spectrogram=None), Unit(onset=4.14615625, offset=4.172625, label='-', audio=None, spectrogram=None), Unit(onset=4.79690625, offset=4.8074375, label='-', audio=None, spectrogram=None), Unit(onset=4.8988125, offset=4.92034375, label='-', audio=None, spectrogram=None), Unit(onset=5.032625, offset=5.04684375, label='-', audio=None, spectrogram=None), Unit(onset=5.11390625, offset=5.12503125, label='-', audio=None, spectrogram=None), Unit(onset=5.46525, offset=5.4916875, label='-', audio=None, spectrogram=None), Unit(onset=6.2710625, offset=6.28575, label='-', audio=None, spectrogram=None), Unit(onset=6.329625, offset=6.358625, label='-', audio=None, spectrogram=None), Unit(onset=6.8471875, offset=6.87815625, label='-', audio=None, spectrogram=None), Unit(onset=7.535125, offset=7.545875, label='-', audio=None, spectrogram=None), Unit(onset=7.63725, offset=7.65853125, label='-', audio=None, spectrogram=None), Unit(onset=7.68390625, offset=7.694625, label='-', audio=None, spectrogram=None), Unit(onset=7.70115625, offset=7.717375, label='-', audio=None, spectrogram=None), Unit(onset=7.84775, offset=7.85790625, label='-', audio=None, spectrogram=None)], method='segment_song', segment_params={'threshold': 1500, 'min_syl_dur': 0.01, 'min_silent_dur': 0.006}, audio=vocalpy.Audio(data=array([-217, ..., dtype=int16), samplerate=32000, channels=1), path=tests/data-for-tests/source/audio_cbin_annot_notmat/gy6or6/032312/gy6or6_baseline_230312_0813.163.cbin), spectrogram=None), Sequence(units=[Unit(onset=2.0005, offset=2.0119375, label='-', audio=None, spectrogram=None), Unit(onset=2.0870625, offset=2.1044375, label='-', audio=None, spectrogram=None), Unit(onset=2.158875, offset=2.1891875, label='-', audio=None, spectrogram=None), Unit(onset=2.634625, offset=2.66459375, label='-', audio=None, spectrogram=None), Unit(onset=3.2753125, offset=3.2869375, label='-', audio=None, spectrogram=None), Unit(onset=3.3759375, offset=3.39628125, label='-', audio=None, spectrogram=None), Unit(onset=3.43625, offset=3.45096875, label='-', audio=None, spectrogram=None), Unit(onset=3.4610625, offset=3.4720625, label='-', audio=None, spectrogram=None), Unit(onset=3.5820625, offset=3.5979375, label='-', audio=None, spectrogram=None), Unit(onset=3.9236875, offset=3.9516875, label='-', audio=None, spectrogram=None), Unit(onset=4.587, offset=4.60309375, label='-', audio=None, spectrogram=None), Unit(onset=4.67775, offset=4.70115625, label='-', audio=None, spectrogram=None), Unit(onset=4.74978125, offset=4.768875, label='-', audio=None, spectrogram=None), Unit(onset=4.8258125, offset=4.83703125, label='-', audio=None, spectrogram=None), Unit(onset=4.89428125, offset=4.91940625, label='-', audio=None, spectrogram=None), Unit(onset=4.93896875, offset=4.9505, label='-', audio=None, spectrogram=None), Unit(onset=5.24340625, offset=5.27725, label='-', audio=None, spectrogram=None), Unit(onset=5.90009375, offset=5.91775, label='-', audio=None, spectrogram=None), Unit(onset=5.99228125, offset=6.0244375, label='-', audio=None, spectrogram=None), Unit(onset=6.06390625, offset=6.1, label='-', audio=None, spectrogram=None), Unit(onset=6.14390625, offset=6.1560625, label='-', audio=None, spectrogram=None), Unit(onset=6.2118125, offset=6.2375, label='-', audio=None, spectrogram=None), Unit(onset=6.24678125, offset=6.26703125, label='-', audio=None, spectrogram=None), Unit(onset=6.5659375, offset=6.6003125, label='-', audio=None, spectrogram=None), Unit(onset=7.24384375, offset=7.2580625, label='-', audio=None, spectrogram=None), Unit(onset=7.34509375, offset=7.370375, label='-', audio=None, spectrogram=None), Unit(onset=7.40990625, offset=7.44596875, label='-', audio=None, spectrogram=None), Unit(onset=7.5595625, offset=7.58575, label='-', audio=None, spectrogram=None), Unit(onset=7.91609375, offset=7.952875, label='-', audio=None, spectrogram=None)], method='segment_song', segment_params={'threshold': 1500, 'min_syl_dur': 0.01, 'min_silent_dur': 0.006}, audio=vocalpy.Audio(data=array([-181, ..., dtype=int16), samplerate=32000, channels=1), path=tests/data-for-tests/source/audio_cbin_annot_notmat/gy6or6/032312/gy6or6_baseline_230312_0816.179.cbin), spectrogram=None), Sequence(units=[Unit(onset=2.30671875, offset=2.31809375, label='-', audio=None, spectrogram=None), Unit(onset=2.858375, offset=2.883875, label='-', audio=None, spectrogram=None), Unit(onset=3.52040625, offset=3.53421875, label='-', audio=None, spectrogram=None), Unit(onset=3.6263125, offset=3.6404375, label='-', audio=None, spectrogram=None), Unit(onset=3.68246875, offset=3.71740625, label='-', audio=None, spectrogram=None), Unit(onset=3.838875, offset=3.8503125, label='-', audio=None, spectrogram=None), Unit(onset=4.18459375, offset=4.21265625, label='-', audio=None, spectrogram=None), Unit(onset=5.59653125, offset=5.60715625, label='-', audio=None, spectrogram=None), Unit(onset=5.6985, offset=5.720125, label='-', audio=None, spectrogram=None), Unit(onset=5.76015625, offset=5.7744375, label='-', audio=None, spectrogram=None), Unit(onset=5.8375, offset=5.85134375, label='-', audio=None, spectrogram=None), Unit(onset=5.9278125, offset=5.9434375, label='-', audio=None, spectrogram=None), Unit(onset=6.25290625, offset=6.282875, label='-', audio=None, spectrogram=None), Unit(onset=6.9055, offset=6.91728125, label='-', audio=None, spectrogram=None), Unit(onset=7.00784375, offset=7.03015625, label='-', audio=None, spectrogram=None), Unit(onset=7.0715, offset=7.10415625, label='-', audio=None, spectrogram=None), Unit(onset=7.13228125, offset=7.15246875, label='-', audio=None, spectrogram=None)], method='segment_song', segment_params={'threshold': 1500, 'min_syl_dur': 0.01, 'min_silent_dur': 0.006}, audio=vocalpy.Audio(data=array([ 174, ..., dtype=int16), samplerate=32000, channels=1), path=tests/data-for-tests/source/audio_cbin_annot_notmat/gy6or6/032312/gy6or6_baseline_230312_0817.183.cbin), spectrogram=None), Sequence(units=[Unit(onset=2.198625, offset=2.22684375, label='-', audio=None, spectrogram=None), Unit(onset=2.30890625, offset=2.32125, label='-', audio=None, spectrogram=None), Unit(onset=2.36209375, offset=2.39634375, label='-', audio=None, spectrogram=None), Unit(onset=2.51190625, offset=2.531625, label='-', audio=None, spectrogram=None), Unit(onset=2.85165625, offset=2.880375, label='-', audio=None, spectrogram=None), Unit(onset=3.4875, offset=3.50771875, label='-', audio=None, spectrogram=None), Unit(onset=3.5773125, offset=3.61165625, label='-', audio=None, spectrogram=None), Unit(onset=3.65065625, offset=3.68434375, label='-', audio=None, spectrogram=None), Unit(onset=3.72821875, offset=3.74703125, label='-', audio=None, spectrogram=None), Unit(onset=3.78621875, offset=3.81971875, label='-', audio=None, spectrogram=None), Unit(onset=3.8279375, offset=3.84725, label='-', audio=None, spectrogram=None), Unit(onset=4.14184375, offset=4.17740625, label='-', audio=None, spectrogram=None), Unit(onset=4.9046875, offset=4.9154375, label='-', audio=None, spectrogram=None), Unit(onset=4.9796875, offset=5.012875, label='-', audio=None, spectrogram=None), Unit(onset=5.056375, offset=5.084625, label='-', audio=None, spectrogram=None), Unit(onset=5.1288125, offset=5.177375, label='-', audio=None, spectrogram=None), Unit(onset=5.50996875, offset=5.54065625, label='-', audio=None, spectrogram=None), Unit(onset=6.1880625, offset=6.20190625, label='-', audio=None, spectrogram=None), Unit(onset=6.292875, offset=6.3066875, label='-', audio=None, spectrogram=None), Unit(onset=6.34865625, offset=6.38296875, label='-', audio=None, spectrogram=None), Unit(onset=6.42334375, offset=6.43834375, label='-', audio=None, spectrogram=None), Unit(onset=6.49340625, offset=6.51409375, label='-', audio=None, spectrogram=None), Unit(onset=6.5258125, offset=6.53621875, label='-', audio=None, spectrogram=None)], method='segment_song', segment_params={'threshold': 1500, 'min_syl_dur': 0.01, 'min_silent_dur': 0.006}, audio=vocalpy.Audio(data=array([ 207, ..., dtype=int16), samplerate=32000, channels=1), path=tests/data-for-tests/source/audio_cbin_annot_notmat/gy6or6/032312/gy6or6_baseline_230312_0819.190.cbin), spectrogram=None), Sequence(units=[Unit(onset=2.19465625, offset=2.2125, label='-', audio=None, spectrogram=None), Unit(onset=2.298, offset=2.311625, label='-', audio=None, spectrogram=None), Unit(onset=2.84396875, offset=2.86875, label='-', audio=None, spectrogram=None), Unit(onset=3.644, offset=3.655125, label='-', audio=None, spectrogram=None), Unit(onset=3.66265625, offset=3.673375, label='-', audio=None, spectrogram=None), Unit(onset=3.77975, offset=3.80203125, label='-', audio=None, spectrogram=None), Unit(onset=4.12871875, offset=4.15778125, label='-', audio=None, spectrogram=None), Unit(onset=4.81478125, offset=4.83071875, label='-', audio=None, spectrogram=None), Unit(onset=4.91428125, offset=4.93646875, label='-', audio=None, spectrogram=None), Unit(onset=4.97903125, offset=5.01015625, label='-', audio=None, spectrogram=None), Unit(onset=5.0643125, offset=5.079125, label='-', audio=None, spectrogram=None), Unit(onset=5.13709375, offset=5.153875, label='-', audio=None, spectrogram=None), Unit(onset=5.46665625, offset=5.4981875, label='-', audio=None, spectrogram=None), Unit(onset=6.88296875, offset=6.89903125, label='-', audio=None, spectrogram=None), Unit(onset=7.04971875, offset=7.08378125, label='-', audio=None, spectrogram=None), Unit(onset=7.20890625, offset=7.2275625, label='-', audio=None, spectrogram=None)], method='segment_song', segment_params={'threshold': 1500, 'min_syl_dur': 0.01, 'min_silent_dur': 0.006}, audio=vocalpy.Audio(data=array([131, 1..., dtype=int16), samplerate=32000, channels=1), path=tests/data-for-tests/source/audio_cbin_annot_notmat/gy6or6/032312/gy6or6_baseline_230312_0820.196.cbin), spectrogram=None), Sequence(units=[Unit(onset=2.18140625, offset=2.19846875, label='-', audio=None, spectrogram=None), Unit(onset=2.266125, offset=2.2974375, label='-', audio=None, spectrogram=None), Unit(onset=2.3403125, offset=2.3740625, label='-', audio=None, spectrogram=None), Unit(onset=2.493125, offset=2.514875, label='-', audio=None, spectrogram=None), Unit(onset=2.52653125, offset=2.53971875, label='-', audio=None, spectrogram=None), Unit(onset=2.8301875, offset=2.85665625, label='-', audio=None, spectrogram=None), Unit(onset=3.46621875, offset=3.477875, label='-', audio=None, spectrogram=None), Unit(onset=3.55765625, offset=3.593875, label='-', audio=None, spectrogram=None), Unit(onset=3.6193125, offset=3.6293125, label='-', audio=None, spectrogram=None), Unit(onset=3.6356875, offset=3.6659375, label='-', audio=None, spectrogram=None), Unit(onset=3.7121875, offset=3.72659375, label='-', audio=None, spectrogram=None), Unit(onset=3.7705625, offset=3.80796875, label='-', audio=None, spectrogram=None), Unit(onset=3.81740625, offset=3.829, label='-', audio=None, spectrogram=None), Unit(onset=4.117875, offset=4.14790625, label='-', audio=None, spectrogram=None), Unit(onset=4.78215625, offset=4.80359375, label='-', audio=None, spectrogram=None), Unit(onset=4.892375, offset=4.9088125, label='-', audio=None, spectrogram=None), Unit(onset=4.93021875, offset=4.97878125, label='-', audio=None, spectrogram=None), Unit(onset=5.007, offset=5.052625, label='-', audio=None, spectrogram=None), Unit(onset=5.09490625, offset=5.142625, label='-', audio=None, spectrogram=None)], method='segment_song', segment_params={'threshold': 1500, 'min_syl_dur': 0.01, 'min_silent_dur': 0.006}, audio=vocalpy.Audio(data=array([163, 1..., dtype=int16), samplerate=32000, channels=1), path=tests/data-for-tests/source/audio_cbin_annot_notmat/gy6or6/032312/gy6or6_baseline_230312_0821.202.cbin), spectrogram=None), Sequence(units=[Unit(onset=2.190625, offset=2.21003125, label='-', audio=None, spectrogram=None), Unit(onset=2.2939375, offset=2.30725, label='-', audio=None, spectrogram=None), Unit(onset=2.350375, offset=2.37828125, label='-', audio=None, spectrogram=None), Unit(onset=2.42775, offset=2.44915625, label='-', audio=None, spectrogram=None), Unit(onset=2.482625, offset=2.50815625, label='-', audio=None, spectrogram=None), Unit(onset=2.82690625, offset=2.85396875, label='-', audio=None, spectrogram=None), Unit(onset=3.48075, offset=3.49125, label='-', audio=None, spectrogram=None), Unit(onset=3.5869375, offset=3.60228125, label='-', audio=None, spectrogram=None), Unit(onset=3.624875, offset=3.67584375, label='-', audio=None, spectrogram=None), Unit(onset=3.7333125, offset=3.75040625, label='-', audio=None, spectrogram=None), Unit(onset=3.7795, offset=3.83828125, label='-', audio=None, spectrogram=None), Unit(onset=4.13509375, offset=4.16196875, label='-', audio=None, spectrogram=None), Unit(onset=4.7845, offset=4.79725, label='-', audio=None, spectrogram=None), Unit(onset=4.89209375, offset=4.90578125, label='-', audio=None, spectrogram=None), Unit(onset=4.94984375, offset=4.98253125, label='-', audio=None, spectrogram=None), Unit(onset=5.02765625, offset=5.0564375, label='-', audio=None, spectrogram=None), Unit(onset=5.09940625, offset=5.150875, label='-', audio=None, spectrogram=None), Unit(onset=5.43484375, offset=5.4681875, label='-', audio=None, spectrogram=None), Unit(onset=5.90059375, offset=5.91525, label='-', audio=None, spectrogram=None), Unit(onset=6.09746875, offset=6.1200625, label='-', audio=None, spectrogram=None), Unit(onset=6.197625, offset=6.22225, label='-', audio=None, spectrogram=None), Unit(onset=6.26290625, offset=6.29734375, label='-', audio=None, spectrogram=None), Unit(onset=6.339625, offset=6.3685, label='-', audio=None, spectrogram=None), Unit(onset=6.4120625, offset=6.438375, label='-', audio=None, spectrogram=None), Unit(onset=6.4458125, offset=6.46234375, label='-', audio=None, spectrogram=None), Unit(onset=6.75590625, offset=6.789375, label='-', audio=None, spectrogram=None), Unit(onset=7.42953125, offset=7.44759375, label='-', audio=None, spectrogram=None), Unit(onset=7.5316875, offset=7.5529375, label='-', audio=None, spectrogram=None), Unit(onset=7.59503125, offset=7.6268125, label='-', audio=None, spectrogram=None), Unit(onset=7.656375, offset=7.700625, label='-', audio=None, spectrogram=None), Unit(onset=7.74340625, offset=7.79865625, label='-', audio=None, spectrogram=None), Unit(onset=8.10290625, offset=8.13728125, label='-', audio=None, spectrogram=None), Unit(onset=8.58290625, offset=8.5966875, label='-', audio=None, spectrogram=None), Unit(onset=8.79703125, offset=8.8170625, label='-', audio=None, spectrogram=None), Unit(onset=8.89184375, offset=8.92284375, label='-', audio=None, spectrogram=None), Unit(onset=8.94803125, offset=8.95859375, label='-', audio=None, spectrogram=None), Unit(onset=8.96559375, offset=8.99984375, label='-', audio=None, spectrogram=None), Unit(onset=9.04565625, offset=9.071125, label='-', audio=None, spectrogram=None), Unit(onset=9.11471875, offset=9.139125, label='-', audio=None, spectrogram=None)], method='segment_song', segment_params={'threshold': 1500, 'min_syl_dur': 0.01, 'min_silent_dur': 0.006}, audio=vocalpy.Audio(data=array([-82, -..., dtype=int16), samplerate=32000, channels=1), path=tests/data-for-tests/source/audio_cbin_annot_notmat/gy6or6/032312/gy6or6_baseline_230312_0918.584.cbin), spectrogram=None), Sequence(units=[Unit(onset=2.19, offset=2.21328125, label='-', audio=None, spectrogram=None), Unit(onset=2.34925, offset=2.38484375, label='-', audio=None, spectrogram=None), Unit(onset=2.49765625, offset=2.51846875, label='-', audio=None, spectrogram=None), Unit(onset=2.8403125, offset=2.86784375, label='-', audio=None, spectrogram=None), Unit(onset=3.49521875, offset=3.5074375, label='-', audio=None, spectrogram=None), Unit(onset=3.59346875, offset=3.6166875, label='-', audio=None, spectrogram=None), Unit(onset=3.658625, offset=3.69215625, label='-', audio=None, spectrogram=None), Unit(onset=3.71940625, offset=3.75728125, label='-', audio=None, spectrogram=None), Unit(onset=3.80628125, offset=3.835875, label='-', audio=None, spectrogram=None), Unit(onset=4.15240625, offset=4.1860625, label='-', audio=None, spectrogram=None), Unit(onset=4.811625, offset=4.82340625, label='-', audio=None, spectrogram=None), Unit(onset=4.91046875, offset=4.9205, label='-', audio=None, spectrogram=None), Unit(onset=4.9598125, offset=5.00521875, label='-', audio=None, spectrogram=None), Unit(onset=5.05015625, offset=5.068875, label='-', audio=None, spectrogram=None), Unit(onset=5.1105, offset=5.14290625, label='-', audio=None, spectrogram=None), Unit(onset=5.479375, offset=5.5084375, label='-', audio=None, spectrogram=None), Unit(onset=6.15546875, offset=6.17409375, label='-', audio=None, spectrogram=None), Unit(onset=6.256625, offset=6.26865625, label='-', audio=None, spectrogram=None), Unit(onset=6.3040625, offset=6.354625, label='-', audio=None, spectrogram=None), Unit(onset=6.39984375, offset=6.4203125, label='-', audio=None, spectrogram=None), Unit(onset=6.468, offset=6.4900625, label='-', audio=None, spectrogram=None), Unit(onset=6.7486875, offset=6.76021875, label='-', audio=None, spectrogram=None), Unit(onset=6.825875, offset=6.85453125, label='-', audio=None, spectrogram=None), Unit(onset=7.50871875, offset=7.52565625, label='-', audio=None, spectrogram=None), Unit(onset=7.5968125, offset=7.63171875, label='-', audio=None, spectrogram=None), Unit(onset=7.6565625, offset=7.70746875, label='-', audio=None, spectrogram=None), Unit(onset=7.7349375, offset=7.7646875, label='-', audio=None, spectrogram=None), Unit(onset=7.8193125, offset=7.85515625, label='-', audio=None, spectrogram=None), Unit(onset=8.1045, offset=8.11559375, label='-', audio=None, spectrogram=None), Unit(onset=8.17628125, offset=8.206625, label='-', audio=None, spectrogram=None)], method='segment_song', segment_params={'threshold': 1500, 'min_syl_dur': 0.01, 'min_silent_dur': 0.006}, audio=vocalpy.Audio(data=array([-140, ..., dtype=int16), samplerate=32000, channels=1), path=tests/data-for-tests/source/audio_cbin_annot_notmat/gy6or6/032312/gy6or6_baseline_230312_1054.1329.cbin), spectrogram=None)], segment_params={'threshold': 1500, 'min_syl_dur': 0.01, 'min_silent_dur': 0.006})"
      ]
     },
     "execution_count": 7,
     "metadata": {},
     "output_type": "execute_result"
    }
   ],
   "source": [
    "other_seq_dataset"
   ]
  },
  {
   "cell_type": "code",
   "execution_count": 9,
   "id": "bded973e-4d2c-4b20-b619-43b93111d370",
   "metadata": {
    "tags": []
   },
   "outputs": [
    {
     "name": "stdout",
     "output_type": "stream",
     "text": [
      "2023-05-11 09:43:33,638 INFO sqlalchemy.engine.Engine BEGIN (implicit)\n",
      "2023-05-11 09:43:33,652 INFO sqlalchemy.engine.Engine SELECT segment_params.id, segment_params.path \n",
      "FROM segment_params ORDER BY segment_params.id\n",
      "2023-05-11 09:43:33,655 INFO sqlalchemy.engine.Engine [cached since 8.124e+04s ago] ()\n",
      "2023-05-11 09:43:33,672 INFO sqlalchemy.engine.Engine SELECT audios.id, audios.path \n",
      "FROM audios ORDER BY audios.id\n",
      "2023-05-11 09:43:33,673 INFO sqlalchemy.engine.Engine [cached since 8.124e+04s ago] ()\n",
      "2023-05-11 09:43:33,677 INFO sqlalchemy.engine.Engine SELECT sequences.id, sequences.audio_id, sequences.onset, sequences.\"offset\", sequences.method, sequences.segment_params_id \n",
      "FROM sequences ORDER BY sequences.id\n",
      "2023-05-11 09:43:33,679 INFO sqlalchemy.engine.Engine [cached since 8.124e+04s ago] ()\n",
      "2023-05-11 09:43:33,687 INFO sqlalchemy.engine.Engine SELECT units.id, units.sequence_id, units.onset, units.\"offset\", units.label \n",
      "FROM units \n",
      "WHERE units.sequence_id = ? ORDER BY units.id\n",
      "2023-05-11 09:43:33,689 INFO sqlalchemy.engine.Engine [cached since 8.124e+04s ago] (1,)\n",
      "2023-05-11 09:43:33,714 INFO sqlalchemy.engine.Engine SELECT units.id, units.sequence_id, units.onset, units.\"offset\", units.label \n",
      "FROM units \n",
      "WHERE units.sequence_id = ? ORDER BY units.id\n",
      "2023-05-11 09:43:33,716 INFO sqlalchemy.engine.Engine [cached since 8.124e+04s ago] (2,)\n",
      "2023-05-11 09:43:33,720 INFO sqlalchemy.engine.Engine SELECT units.id, units.sequence_id, units.onset, units.\"offset\", units.label \n",
      "FROM units \n",
      "WHERE units.sequence_id = ? ORDER BY units.id\n",
      "2023-05-11 09:43:33,722 INFO sqlalchemy.engine.Engine [cached since 8.124e+04s ago] (3,)\n",
      "2023-05-11 09:43:33,727 INFO sqlalchemy.engine.Engine SELECT units.id, units.sequence_id, units.onset, units.\"offset\", units.label \n",
      "FROM units \n",
      "WHERE units.sequence_id = ? ORDER BY units.id\n",
      "2023-05-11 09:43:33,728 INFO sqlalchemy.engine.Engine [cached since 8.124e+04s ago] (4,)\n",
      "2023-05-11 09:43:33,729 INFO sqlalchemy.engine.Engine SELECT units.id, units.sequence_id, units.onset, units.\"offset\", units.label \n",
      "FROM units \n",
      "WHERE units.sequence_id = ? ORDER BY units.id\n",
      "2023-05-11 09:43:33,730 INFO sqlalchemy.engine.Engine [cached since 8.124e+04s ago] (5,)\n",
      "2023-05-11 09:43:33,732 INFO sqlalchemy.engine.Engine SELECT units.id, units.sequence_id, units.onset, units.\"offset\", units.label \n",
      "FROM units \n",
      "WHERE units.sequence_id = ? ORDER BY units.id\n",
      "2023-05-11 09:43:33,733 INFO sqlalchemy.engine.Engine [cached since 8.124e+04s ago] (6,)\n",
      "2023-05-11 09:43:33,735 INFO sqlalchemy.engine.Engine SELECT units.id, units.sequence_id, units.onset, units.\"offset\", units.label \n",
      "FROM units \n",
      "WHERE units.sequence_id = ? ORDER BY units.id\n",
      "2023-05-11 09:43:33,736 INFO sqlalchemy.engine.Engine [cached since 8.124e+04s ago] (7,)\n",
      "2023-05-11 09:43:33,739 INFO sqlalchemy.engine.Engine SELECT units.id, units.sequence_id, units.onset, units.\"offset\", units.label \n",
      "FROM units \n",
      "WHERE units.sequence_id = ? ORDER BY units.id\n",
      "2023-05-11 09:43:33,740 INFO sqlalchemy.engine.Engine [cached since 8.124e+04s ago] (8,)\n",
      "2023-05-11 09:43:33,742 INFO sqlalchemy.engine.Engine SELECT units.id, units.sequence_id, units.onset, units.\"offset\", units.label \n",
      "FROM units \n",
      "WHERE units.sequence_id = ? ORDER BY units.id\n",
      "2023-05-11 09:43:33,743 INFO sqlalchemy.engine.Engine [cached since 8.124e+04s ago] (9,)\n",
      "2023-05-11 09:43:33,745 INFO sqlalchemy.engine.Engine SELECT units.id, units.sequence_id, units.onset, units.\"offset\", units.label \n",
      "FROM units \n",
      "WHERE units.sequence_id = ? ORDER BY units.id\n",
      "2023-05-11 09:43:33,747 INFO sqlalchemy.engine.Engine [cached since 8.124e+04s ago] (10,)\n",
      "2023-05-11 09:43:33,750 INFO sqlalchemy.engine.Engine SELECT units.id, units.sequence_id, units.onset, units.\"offset\", units.label \n",
      "FROM units \n",
      "WHERE units.sequence_id = ? ORDER BY units.id\n",
      "2023-05-11 09:43:33,751 INFO sqlalchemy.engine.Engine [cached since 8.124e+04s ago] (11,)\n",
      "2023-05-11 09:43:33,758 INFO sqlalchemy.engine.Engine SELECT units.id, units.sequence_id, units.onset, units.\"offset\", units.label \n",
      "FROM units \n",
      "WHERE units.sequence_id = ? ORDER BY units.id\n",
      "2023-05-11 09:43:33,761 INFO sqlalchemy.engine.Engine [cached since 8.124e+04s ago] (12,)\n",
      "2023-05-11 09:43:33,764 INFO sqlalchemy.engine.Engine COMMIT\n"
     ]
    }
   ],
   "source": [
    "with Session(engine) as session, session.begin():\n",
    "    seg_params_stmt = (\n",
    "        select(voc.dataset.models.sequence.SegmentParams)\n",
    "            .order_by(voc.dataset.models.sequence.SegmentParams.id)\n",
    "    )\n",
    "    seg_params_result = session.scalars(seg_params_stmt).all()\n",
    "\n",
    "    segment_params = []\n",
    "    for model_segment_params in seg_params_result:\n",
    "        path = model_segment_params.path\n",
    "        with pathlib.Path(path).open('r') as fp:\n",
    "            this_seg_params = json.load(fp)\n",
    "        segment_params.append(this_seg_params)\n",
    "\n",
    "    audios = []\n",
    "    audio_stmt = (\n",
    "        select(voc.dataset.models.sequence.Audio)\n",
    "            .order_by(voc.dataset.models.sequence.Audio.id)\n",
    "    )\n",
    "    audio_result = session.scalars(audio_stmt).all()\n",
    "    for model_audio in audio_result:\n",
    "        audios.append(\n",
    "            voc.Audio(path=model_audio.path)\n",
    "        )\n",
    "    \n",
    "    seqs_stmt = (\n",
    "        select(voc.dataset.models.sequence.Sequence)\n",
    "            .order_by(voc.dataset.models.sequence.Sequence.id)\n",
    "    )\n",
    "    seqs_result = session.scalars(seqs_stmt).all()\n",
    "\n",
    "    seqs = []\n",
    "    for model_sequence in seqs_result:\n",
    "        units_stmt = (\n",
    "            select(voc.dataset.models.sequence.Unit)\n",
    "                .where(voc.dataset.models.sequence.Unit.sequence_id == model_sequence.id)\n",
    "                .order_by(voc.dataset.models.sequence.Unit.id)\n",
    "        )\n",
    "        seq_units_result = session.scalars(units_stmt).all()\n",
    "\n",
    "        units = []\n",
    "        for model_unit in seq_units_result:\n",
    "            unit = voc.Unit(onset=model_unit.onset, offset=model_unit.offset, label=model_unit.label)\n",
    "            units.append(unit)\n",
    "\n",
    "        seq = voc.Sequence(\n",
    "            units=units,\n",
    "            audio=audios[model_sequence.audio_id - 1],\n",
    "            method=model_sequence.method,\n",
    "            segment_params=segment_params[model_sequence.segment_params_id - 1]\n",
    "        )\n",
    "        seqs.append(seq)"
   ]
  },
  {
   "cell_type": "code",
   "execution_count": 10,
   "id": "100df05d-2e17-49d1-91fb-04f43f14f343",
   "metadata": {
    "tags": []
   },
   "outputs": [
    {
     "data": {
      "text/plain": [
       "[Sequence(units=[Unit(onset=2.18934375, offset=2.21, label='-', audio=None, spectrogram=None), Unit(onset=2.346125, offset=2.373125, label='-', audio=None, spectrogram=None), Unit(onset=2.50471875, offset=2.51546875, label='-', audio=None, spectrogram=None), Unit(onset=2.81909375, offset=2.84740625, label='-', audio=None, spectrogram=None), Unit(onset=3.44878125, offset=3.4676875, label='-', audio=None, spectrogram=None), Unit(onset=3.51753125, offset=3.565875, label='-', audio=None, spectrogram=None), Unit(onset=3.6085625, offset=3.6390625, label='-', audio=None, spectrogram=None), Unit(onset=3.68625, offset=3.7098125, label='-', audio=None, spectrogram=None), Unit(onset=3.747875, offset=3.761125, label='-', audio=None, spectrogram=None), Unit(onset=4.0930625, offset=4.123375, label='-', audio=None, spectrogram=None), Unit(onset=4.75184375, offset=4.7740625, label='-', audio=None, spectrogram=None), Unit(onset=4.8950625, offset=4.94246875, label='-', audio=None, spectrogram=None), Unit(onset=5.04271875, offset=5.0766875, label='-', audio=None, spectrogram=None), Unit(onset=5.4103125, offset=5.439875, label='-', audio=None, spectrogram=None), Unit(onset=6.16421875, offset=6.188, label='-', audio=None, spectrogram=None), Unit(onset=6.2303125, offset=6.26034375, label='-', audio=None, spectrogram=None), Unit(onset=6.31225, offset=6.32859375, label='-', audio=None, spectrogram=None), Unit(onset=6.3794375, offset=6.401125, label='-', audio=None, spectrogram=None), Unit(onset=8.208625, offset=8.22925, label='-', audio=None, spectrogram=None), Unit(onset=8.38196875, offset=8.405125, label='-', audio=None, spectrogram=None), Unit(onset=8.4529375, offset=8.47090625, label='-', audio=None, spectrogram=None), Unit(onset=8.53165625, offset=8.54715625, label='-', audio=None, spectrogram=None), Unit(onset=8.8598125, offset=8.8893125, label='-', audio=None, spectrogram=None), Unit(onset=9.51828125, offset=9.53134375, label='-', audio=None, spectrogram=None), Unit(onset=9.6163125, offset=9.63709375, label='-', audio=None, spectrogram=None), Unit(onset=9.6838125, offset=9.716, label='-', audio=None, spectrogram=None), Unit(onset=9.7635625, offset=9.788625, label='-', audio=None, spectrogram=None), Unit(onset=9.83603125, offset=9.87253125, label='-', audio=None, spectrogram=None), Unit(onset=10.188, offset=10.22290625, label='-', audio=None, spectrogram=None)], method='segment_song', segment_params={'threshold': 1500, 'min_syl_dur': 0.01, 'min_silent_dur': 0.006}, audio=vocalpy.Audio(data=None, samplerate=None, channels=None), path=tests/data-for-tests/source/audio_cbin_annot_notmat/gy6or6/032312/gy6or6_baseline_230312_0808.138.cbin), spectrogram=None),\n",
       " Sequence(units=[Unit(onset=2.19075, offset=2.20428125, label='-', audio=None, spectrogram=None), Unit(onset=2.35478125, offset=2.38815625, label='-', audio=None, spectrogram=None), Unit(onset=2.8410625, offset=2.86715625, label='-', audio=None, spectrogram=None), Unit(onset=3.48234375, offset=3.49371875, label='-', audio=None, spectrogram=None), Unit(onset=3.57021875, offset=3.60296875, label='-', audio=None, spectrogram=None), Unit(onset=3.64403125, offset=3.67721875, label='-', audio=None, spectrogram=None), Unit(onset=3.72228125, offset=3.74478125, label='-', audio=None, spectrogram=None), Unit(onset=3.8036875, offset=3.8158125, label='-', audio=None, spectrogram=None), Unit(onset=3.82328125, offset=3.83646875, label='-', audio=None, spectrogram=None), Unit(onset=4.13759375, offset=4.16346875, label='-', audio=None, spectrogram=None), Unit(onset=4.80278125, offset=4.814, label='-', audio=None, spectrogram=None), Unit(onset=4.908125, offset=4.922875, label='-', audio=None, spectrogram=None), Unit(onset=4.9643125, offset=4.992625, label='-', audio=None, spectrogram=None), Unit(onset=5.039625, offset=5.0506875, label='-', audio=None, spectrogram=None), Unit(onset=5.10165625, offset=5.1385, label='-', audio=None, spectrogram=None), Unit(onset=5.146875, offset=5.16203125, label='-', audio=None, spectrogram=None), Unit(onset=5.46390625, offset=5.49409375, label='-', audio=None, spectrogram=None), Unit(onset=6.14503125, offset=6.1565625, label='-', audio=None, spectrogram=None), Unit(onset=6.31003125, offset=6.346125, label='-', audio=None, spectrogram=None), Unit(onset=6.38996875, offset=6.4018125, label='-', audio=None, spectrogram=None), Unit(onset=6.46053125, offset=6.4796875, label='-', audio=None, spectrogram=None), Unit(onset=6.83525, offset=6.8643125, label='-', audio=None, spectrogram=None)], method='segment_song', segment_params={'threshold': 1500, 'min_syl_dur': 0.01, 'min_silent_dur': 0.006}, audio=vocalpy.Audio(data=None, samplerate=None, channels=None), path=tests/data-for-tests/source/audio_cbin_annot_notmat/gy6or6/032312/gy6or6_baseline_230312_0809.141.cbin), spectrogram=None),\n",
       " Sequence(units=[Unit(onset=2.58859375, offset=2.60715625, label='-', audio=None, spectrogram=None), Unit(onset=2.682875, offset=2.705, label='-', audio=None, spectrogram=None), Unit(onset=2.7329375, offset=2.74484375, label='-', audio=None, spectrogram=None), Unit(onset=2.75090625, offset=2.78359375, label='-', audio=None, spectrogram=None), Unit(onset=2.824625, offset=2.83465625, label='-', audio=None, spectrogram=None), Unit(onset=2.897625, offset=2.9165625, label='-', audio=None, spectrogram=None), Unit(onset=3.2250625, offset=3.2574375, label='-', audio=None, spectrogram=None), Unit(onset=3.8664375, offset=3.8879375, label='-', audio=None, spectrogram=None), Unit(onset=3.961875, offset=3.9865, label='-', audio=None, spectrogram=None), Unit(onset=4.02928125, offset=4.06228125, label='-', audio=None, spectrogram=None), Unit(onset=4.104, offset=4.12721875, label='-', audio=None, spectrogram=None), Unit(onset=4.1814375, offset=4.21678125, label='-', audio=None, spectrogram=None), Unit(onset=4.516375, offset=4.54803125, label='-', audio=None, spectrogram=None), Unit(onset=4.97271875, offset=4.98346875, label='-', audio=None, spectrogram=None), Unit(onset=5.17415625, offset=5.19340625, label='-', audio=None, spectrogram=None), Unit(onset=5.26484375, offset=5.280125, label='-', audio=None, spectrogram=None), Unit(onset=5.32025, offset=5.36709375, label='-', audio=None, spectrogram=None), Unit(onset=5.4149375, offset=5.43625, label='-', audio=None, spectrogram=None), Unit(onset=5.47871875, offset=5.52996875, label='-', audio=None, spectrogram=None), Unit(onset=5.83034375, offset=5.85959375, label='-', audio=None, spectrogram=None), Unit(onset=6.575, offset=6.58578125, label='-', audio=None, spectrogram=None), Unit(onset=6.638375, offset=6.6725625, label='-', audio=None, spectrogram=None), Unit(onset=6.70109375, offset=6.719625, label='-', audio=None, spectrogram=None), Unit(onset=6.72628125, offset=6.7425, label='-', audio=None, spectrogram=None), Unit(onset=6.78696875, offset=6.80728125, label='-', audio=None, spectrogram=None), Unit(onset=7.13134375, offset=7.16371875, label='-', audio=None, spectrogram=None), Unit(onset=7.79471875, offset=7.81684375, label='-', audio=None, spectrogram=None), Unit(onset=7.9591875, offset=7.99121875, label='-', audio=None, spectrogram=None), Unit(onset=8.04340625, offset=8.06228125, label='-', audio=None, spectrogram=None), Unit(onset=8.10690625, offset=8.13546875, label='-', audio=None, spectrogram=None), Unit(onset=8.46459375, offset=8.50084375, label='-', audio=None, spectrogram=None), Unit(onset=9.14284375, offset=9.1626875, label='-', audio=None, spectrogram=None), Unit(onset=9.23559375, offset=9.25453125, label='-', audio=None, spectrogram=None), Unit(onset=9.30840625, offset=9.34009375, label='-', audio=None, spectrogram=None), Unit(onset=9.388375, offset=9.4030625, label='-', audio=None, spectrogram=None), Unit(onset=9.46271875, offset=9.48203125, label='-', audio=None, spectrogram=None), Unit(onset=9.82925, offset=9.85696875, label='-', audio=None, spectrogram=None), Unit(onset=10.53728125, offset=10.55671875, label='-', audio=None, spectrogram=None), Unit(onset=10.64778125, offset=10.6636875, label='-', audio=None, spectrogram=None), Unit(onset=10.70203125, offset=10.73671875, label='-', audio=None, spectrogram=None), Unit(onset=10.76571875, offset=10.8055625, label='-', audio=None, spectrogram=None), Unit(onset=10.85109375, offset=10.877, label='-', audio=None, spectrogram=None)], method='segment_song', segment_params={'threshold': 1500, 'min_syl_dur': 0.01, 'min_silent_dur': 0.006}, audio=vocalpy.Audio(data=None, samplerate=None, channels=None), path=tests/data-for-tests/source/audio_cbin_annot_notmat/gy6or6/032312/gy6or6_baseline_230312_0810.148.cbin), spectrogram=None),\n",
       " Sequence(units=[Unit(onset=2.18596875, offset=2.19940625, label='-', audio=None, spectrogram=None), Unit(onset=2.29265625, offset=2.3035625, label='-', audio=None, spectrogram=None), Unit(onset=2.3471875, offset=2.36015625, label='-', audio=None, spectrogram=None), Unit(onset=2.8234375, offset=2.8545625, label='-', audio=None, spectrogram=None), Unit(onset=3.63071875, offset=3.6610625, label='-', audio=None, spectrogram=None), Unit(onset=3.693, offset=3.71659375, label='-', audio=None, spectrogram=None), Unit(onset=3.72359375, offset=3.7365625, label='-', audio=None, spectrogram=None), Unit(onset=3.7649375, offset=3.7960625, label='-', audio=None, spectrogram=None), Unit(onset=4.1198125, offset=4.15059375, label='-', audio=None, spectrogram=None), Unit(onset=4.781875, offset=4.793625, label='-', audio=None, spectrogram=None), Unit(onset=4.92771875, offset=4.93778125, label='-', audio=None, spectrogram=None), Unit(onset=4.946, offset=4.9745625, label='-', audio=None, spectrogram=None), Unit(onset=5.0959375, offset=5.10640625, label='-', audio=None, spectrogram=None), Unit(onset=5.4459375, offset=5.4736875, label='-', audio=None, spectrogram=None)], method='segment_song', segment_params={'threshold': 1500, 'min_syl_dur': 0.01, 'min_silent_dur': 0.006}, audio=vocalpy.Audio(data=None, samplerate=None, channels=None), path=tests/data-for-tests/source/audio_cbin_annot_notmat/gy6or6/032312/gy6or6_baseline_230312_0811.159.cbin), spectrogram=None),\n",
       " Sequence(units=[Unit(onset=2.1895, offset=2.2001875, label='-', audio=None, spectrogram=None), Unit(onset=2.3546875, offset=2.36521875, label='-', audio=None, spectrogram=None), Unit(onset=2.8408125, offset=2.86890625, label='-', audio=None, spectrogram=None), Unit(onset=3.59403125, offset=3.61153125, label='-', audio=None, spectrogram=None), Unit(onset=3.6415, offset=3.67246875, label='-', audio=None, spectrogram=None), Unit(onset=3.73221875, offset=3.74315625, label='-', audio=None, spectrogram=None), Unit(onset=3.79003125, offset=3.8185625, label='-', audio=None, spectrogram=None), Unit(onset=4.14615625, offset=4.172625, label='-', audio=None, spectrogram=None), Unit(onset=4.79690625, offset=4.8074375, label='-', audio=None, spectrogram=None), Unit(onset=4.8988125, offset=4.92034375, label='-', audio=None, spectrogram=None), Unit(onset=5.032625, offset=5.04684375, label='-', audio=None, spectrogram=None), Unit(onset=5.11390625, offset=5.12503125, label='-', audio=None, spectrogram=None), Unit(onset=5.46525, offset=5.4916875, label='-', audio=None, spectrogram=None), Unit(onset=6.2710625, offset=6.28575, label='-', audio=None, spectrogram=None), Unit(onset=6.329625, offset=6.358625, label='-', audio=None, spectrogram=None), Unit(onset=6.8471875, offset=6.87815625, label='-', audio=None, spectrogram=None), Unit(onset=7.535125, offset=7.545875, label='-', audio=None, spectrogram=None), Unit(onset=7.63725, offset=7.65853125, label='-', audio=None, spectrogram=None), Unit(onset=7.68390625, offset=7.694625, label='-', audio=None, spectrogram=None), Unit(onset=7.70115625, offset=7.717375, label='-', audio=None, spectrogram=None), Unit(onset=7.84775, offset=7.85790625, label='-', audio=None, spectrogram=None)], method='segment_song', segment_params={'threshold': 1500, 'min_syl_dur': 0.01, 'min_silent_dur': 0.006}, audio=vocalpy.Audio(data=None, samplerate=None, channels=None), path=tests/data-for-tests/source/audio_cbin_annot_notmat/gy6or6/032312/gy6or6_baseline_230312_0813.163.cbin), spectrogram=None),\n",
       " Sequence(units=[Unit(onset=2.0005, offset=2.0119375, label='-', audio=None, spectrogram=None), Unit(onset=2.0870625, offset=2.1044375, label='-', audio=None, spectrogram=None), Unit(onset=2.158875, offset=2.1891875, label='-', audio=None, spectrogram=None), Unit(onset=2.634625, offset=2.66459375, label='-', audio=None, spectrogram=None), Unit(onset=3.2753125, offset=3.2869375, label='-', audio=None, spectrogram=None), Unit(onset=3.3759375, offset=3.39628125, label='-', audio=None, spectrogram=None), Unit(onset=3.43625, offset=3.45096875, label='-', audio=None, spectrogram=None), Unit(onset=3.4610625, offset=3.4720625, label='-', audio=None, spectrogram=None), Unit(onset=3.5820625, offset=3.5979375, label='-', audio=None, spectrogram=None), Unit(onset=3.9236875, offset=3.9516875, label='-', audio=None, spectrogram=None), Unit(onset=4.587, offset=4.60309375, label='-', audio=None, spectrogram=None), Unit(onset=4.67775, offset=4.70115625, label='-', audio=None, spectrogram=None), Unit(onset=4.74978125, offset=4.768875, label='-', audio=None, spectrogram=None), Unit(onset=4.8258125, offset=4.83703125, label='-', audio=None, spectrogram=None), Unit(onset=4.89428125, offset=4.91940625, label='-', audio=None, spectrogram=None), Unit(onset=4.93896875, offset=4.9505, label='-', audio=None, spectrogram=None), Unit(onset=5.24340625, offset=5.27725, label='-', audio=None, spectrogram=None), Unit(onset=5.90009375, offset=5.91775, label='-', audio=None, spectrogram=None), Unit(onset=5.99228125, offset=6.0244375, label='-', audio=None, spectrogram=None), Unit(onset=6.06390625, offset=6.1, label='-', audio=None, spectrogram=None), Unit(onset=6.14390625, offset=6.1560625, label='-', audio=None, spectrogram=None), Unit(onset=6.2118125, offset=6.2375, label='-', audio=None, spectrogram=None), Unit(onset=6.24678125, offset=6.26703125, label='-', audio=None, spectrogram=None), Unit(onset=6.5659375, offset=6.6003125, label='-', audio=None, spectrogram=None), Unit(onset=7.24384375, offset=7.2580625, label='-', audio=None, spectrogram=None), Unit(onset=7.34509375, offset=7.370375, label='-', audio=None, spectrogram=None), Unit(onset=7.40990625, offset=7.44596875, label='-', audio=None, spectrogram=None), Unit(onset=7.5595625, offset=7.58575, label='-', audio=None, spectrogram=None), Unit(onset=7.91609375, offset=7.952875, label='-', audio=None, spectrogram=None)], method='segment_song', segment_params={'threshold': 1500, 'min_syl_dur': 0.01, 'min_silent_dur': 0.006}, audio=vocalpy.Audio(data=None, samplerate=None, channels=None), path=tests/data-for-tests/source/audio_cbin_annot_notmat/gy6or6/032312/gy6or6_baseline_230312_0816.179.cbin), spectrogram=None),\n",
       " Sequence(units=[Unit(onset=2.30671875, offset=2.31809375, label='-', audio=None, spectrogram=None), Unit(onset=2.858375, offset=2.883875, label='-', audio=None, spectrogram=None), Unit(onset=3.52040625, offset=3.53421875, label='-', audio=None, spectrogram=None), Unit(onset=3.6263125, offset=3.6404375, label='-', audio=None, spectrogram=None), Unit(onset=3.68246875, offset=3.71740625, label='-', audio=None, spectrogram=None), Unit(onset=3.838875, offset=3.8503125, label='-', audio=None, spectrogram=None), Unit(onset=4.18459375, offset=4.21265625, label='-', audio=None, spectrogram=None), Unit(onset=5.59653125, offset=5.60715625, label='-', audio=None, spectrogram=None), Unit(onset=5.6985, offset=5.720125, label='-', audio=None, spectrogram=None), Unit(onset=5.76015625, offset=5.7744375, label='-', audio=None, spectrogram=None), Unit(onset=5.8375, offset=5.85134375, label='-', audio=None, spectrogram=None), Unit(onset=5.9278125, offset=5.9434375, label='-', audio=None, spectrogram=None), Unit(onset=6.25290625, offset=6.282875, label='-', audio=None, spectrogram=None), Unit(onset=6.9055, offset=6.91728125, label='-', audio=None, spectrogram=None), Unit(onset=7.00784375, offset=7.03015625, label='-', audio=None, spectrogram=None), Unit(onset=7.0715, offset=7.10415625, label='-', audio=None, spectrogram=None), Unit(onset=7.13228125, offset=7.15246875, label='-', audio=None, spectrogram=None)], method='segment_song', segment_params={'threshold': 1500, 'min_syl_dur': 0.01, 'min_silent_dur': 0.006}, audio=vocalpy.Audio(data=None, samplerate=None, channels=None), path=tests/data-for-tests/source/audio_cbin_annot_notmat/gy6or6/032312/gy6or6_baseline_230312_0817.183.cbin), spectrogram=None),\n",
       " Sequence(units=[Unit(onset=2.198625, offset=2.22684375, label='-', audio=None, spectrogram=None), Unit(onset=2.30890625, offset=2.32125, label='-', audio=None, spectrogram=None), Unit(onset=2.36209375, offset=2.39634375, label='-', audio=None, spectrogram=None), Unit(onset=2.51190625, offset=2.531625, label='-', audio=None, spectrogram=None), Unit(onset=2.85165625, offset=2.880375, label='-', audio=None, spectrogram=None), Unit(onset=3.4875, offset=3.50771875, label='-', audio=None, spectrogram=None), Unit(onset=3.5773125, offset=3.61165625, label='-', audio=None, spectrogram=None), Unit(onset=3.65065625, offset=3.68434375, label='-', audio=None, spectrogram=None), Unit(onset=3.72821875, offset=3.74703125, label='-', audio=None, spectrogram=None), Unit(onset=3.78621875, offset=3.81971875, label='-', audio=None, spectrogram=None), Unit(onset=3.8279375, offset=3.84725, label='-', audio=None, spectrogram=None), Unit(onset=4.14184375, offset=4.17740625, label='-', audio=None, spectrogram=None), Unit(onset=4.9046875, offset=4.9154375, label='-', audio=None, spectrogram=None), Unit(onset=4.9796875, offset=5.012875, label='-', audio=None, spectrogram=None), Unit(onset=5.056375, offset=5.084625, label='-', audio=None, spectrogram=None), Unit(onset=5.1288125, offset=5.177375, label='-', audio=None, spectrogram=None), Unit(onset=5.50996875, offset=5.54065625, label='-', audio=None, spectrogram=None), Unit(onset=6.1880625, offset=6.20190625, label='-', audio=None, spectrogram=None), Unit(onset=6.292875, offset=6.3066875, label='-', audio=None, spectrogram=None), Unit(onset=6.34865625, offset=6.38296875, label='-', audio=None, spectrogram=None), Unit(onset=6.42334375, offset=6.43834375, label='-', audio=None, spectrogram=None), Unit(onset=6.49340625, offset=6.51409375, label='-', audio=None, spectrogram=None), Unit(onset=6.5258125, offset=6.53621875, label='-', audio=None, spectrogram=None)], method='segment_song', segment_params={'threshold': 1500, 'min_syl_dur': 0.01, 'min_silent_dur': 0.006}, audio=vocalpy.Audio(data=None, samplerate=None, channels=None), path=tests/data-for-tests/source/audio_cbin_annot_notmat/gy6or6/032312/gy6or6_baseline_230312_0819.190.cbin), spectrogram=None),\n",
       " Sequence(units=[Unit(onset=2.19465625, offset=2.2125, label='-', audio=None, spectrogram=None), Unit(onset=2.298, offset=2.311625, label='-', audio=None, spectrogram=None), Unit(onset=2.84396875, offset=2.86875, label='-', audio=None, spectrogram=None), Unit(onset=3.644, offset=3.655125, label='-', audio=None, spectrogram=None), Unit(onset=3.66265625, offset=3.673375, label='-', audio=None, spectrogram=None), Unit(onset=3.77975, offset=3.80203125, label='-', audio=None, spectrogram=None), Unit(onset=4.12871875, offset=4.15778125, label='-', audio=None, spectrogram=None), Unit(onset=4.81478125, offset=4.83071875, label='-', audio=None, spectrogram=None), Unit(onset=4.91428125, offset=4.93646875, label='-', audio=None, spectrogram=None), Unit(onset=4.97903125, offset=5.01015625, label='-', audio=None, spectrogram=None), Unit(onset=5.0643125, offset=5.079125, label='-', audio=None, spectrogram=None), Unit(onset=5.13709375, offset=5.153875, label='-', audio=None, spectrogram=None), Unit(onset=5.46665625, offset=5.4981875, label='-', audio=None, spectrogram=None), Unit(onset=6.88296875, offset=6.89903125, label='-', audio=None, spectrogram=None), Unit(onset=7.04971875, offset=7.08378125, label='-', audio=None, spectrogram=None), Unit(onset=7.20890625, offset=7.2275625, label='-', audio=None, spectrogram=None)], method='segment_song', segment_params={'threshold': 1500, 'min_syl_dur': 0.01, 'min_silent_dur': 0.006}, audio=vocalpy.Audio(data=None, samplerate=None, channels=None), path=tests/data-for-tests/source/audio_cbin_annot_notmat/gy6or6/032312/gy6or6_baseline_230312_0820.196.cbin), spectrogram=None),\n",
       " Sequence(units=[Unit(onset=2.18140625, offset=2.19846875, label='-', audio=None, spectrogram=None), Unit(onset=2.266125, offset=2.2974375, label='-', audio=None, spectrogram=None), Unit(onset=2.3403125, offset=2.3740625, label='-', audio=None, spectrogram=None), Unit(onset=2.493125, offset=2.514875, label='-', audio=None, spectrogram=None), Unit(onset=2.52653125, offset=2.53971875, label='-', audio=None, spectrogram=None), Unit(onset=2.8301875, offset=2.85665625, label='-', audio=None, spectrogram=None), Unit(onset=3.46621875, offset=3.477875, label='-', audio=None, spectrogram=None), Unit(onset=3.55765625, offset=3.593875, label='-', audio=None, spectrogram=None), Unit(onset=3.6193125, offset=3.6293125, label='-', audio=None, spectrogram=None), Unit(onset=3.6356875, offset=3.6659375, label='-', audio=None, spectrogram=None), Unit(onset=3.7121875, offset=3.72659375, label='-', audio=None, spectrogram=None), Unit(onset=3.7705625, offset=3.80796875, label='-', audio=None, spectrogram=None), Unit(onset=3.81740625, offset=3.829, label='-', audio=None, spectrogram=None), Unit(onset=4.117875, offset=4.14790625, label='-', audio=None, spectrogram=None), Unit(onset=4.78215625, offset=4.80359375, label='-', audio=None, spectrogram=None), Unit(onset=4.892375, offset=4.9088125, label='-', audio=None, spectrogram=None), Unit(onset=4.93021875, offset=4.97878125, label='-', audio=None, spectrogram=None), Unit(onset=5.007, offset=5.052625, label='-', audio=None, spectrogram=None), Unit(onset=5.09490625, offset=5.142625, label='-', audio=None, spectrogram=None)], method='segment_song', segment_params={'threshold': 1500, 'min_syl_dur': 0.01, 'min_silent_dur': 0.006}, audio=vocalpy.Audio(data=None, samplerate=None, channels=None), path=tests/data-for-tests/source/audio_cbin_annot_notmat/gy6or6/032312/gy6or6_baseline_230312_0821.202.cbin), spectrogram=None),\n",
       " Sequence(units=[Unit(onset=2.190625, offset=2.21003125, label='-', audio=None, spectrogram=None), Unit(onset=2.2939375, offset=2.30725, label='-', audio=None, spectrogram=None), Unit(onset=2.350375, offset=2.37828125, label='-', audio=None, spectrogram=None), Unit(onset=2.42775, offset=2.44915625, label='-', audio=None, spectrogram=None), Unit(onset=2.482625, offset=2.50815625, label='-', audio=None, spectrogram=None), Unit(onset=2.82690625, offset=2.85396875, label='-', audio=None, spectrogram=None), Unit(onset=3.48075, offset=3.49125, label='-', audio=None, spectrogram=None), Unit(onset=3.5869375, offset=3.60228125, label='-', audio=None, spectrogram=None), Unit(onset=3.624875, offset=3.67584375, label='-', audio=None, spectrogram=None), Unit(onset=3.7333125, offset=3.75040625, label='-', audio=None, spectrogram=None), Unit(onset=3.7795, offset=3.83828125, label='-', audio=None, spectrogram=None), Unit(onset=4.13509375, offset=4.16196875, label='-', audio=None, spectrogram=None), Unit(onset=4.7845, offset=4.79725, label='-', audio=None, spectrogram=None), Unit(onset=4.89209375, offset=4.90578125, label='-', audio=None, spectrogram=None), Unit(onset=4.94984375, offset=4.98253125, label='-', audio=None, spectrogram=None), Unit(onset=5.02765625, offset=5.0564375, label='-', audio=None, spectrogram=None), Unit(onset=5.09940625, offset=5.150875, label='-', audio=None, spectrogram=None), Unit(onset=5.43484375, offset=5.4681875, label='-', audio=None, spectrogram=None), Unit(onset=5.90059375, offset=5.91525, label='-', audio=None, spectrogram=None), Unit(onset=6.09746875, offset=6.1200625, label='-', audio=None, spectrogram=None), Unit(onset=6.197625, offset=6.22225, label='-', audio=None, spectrogram=None), Unit(onset=6.26290625, offset=6.29734375, label='-', audio=None, spectrogram=None), Unit(onset=6.339625, offset=6.3685, label='-', audio=None, spectrogram=None), Unit(onset=6.4120625, offset=6.438375, label='-', audio=None, spectrogram=None), Unit(onset=6.4458125, offset=6.46234375, label='-', audio=None, spectrogram=None), Unit(onset=6.75590625, offset=6.789375, label='-', audio=None, spectrogram=None), Unit(onset=7.42953125, offset=7.44759375, label='-', audio=None, spectrogram=None), Unit(onset=7.5316875, offset=7.5529375, label='-', audio=None, spectrogram=None), Unit(onset=7.59503125, offset=7.6268125, label='-', audio=None, spectrogram=None), Unit(onset=7.656375, offset=7.700625, label='-', audio=None, spectrogram=None), Unit(onset=7.74340625, offset=7.79865625, label='-', audio=None, spectrogram=None), Unit(onset=8.10290625, offset=8.13728125, label='-', audio=None, spectrogram=None), Unit(onset=8.58290625, offset=8.5966875, label='-', audio=None, spectrogram=None), Unit(onset=8.79703125, offset=8.8170625, label='-', audio=None, spectrogram=None), Unit(onset=8.89184375, offset=8.92284375, label='-', audio=None, spectrogram=None), Unit(onset=8.94803125, offset=8.95859375, label='-', audio=None, spectrogram=None), Unit(onset=8.96559375, offset=8.99984375, label='-', audio=None, spectrogram=None), Unit(onset=9.04565625, offset=9.071125, label='-', audio=None, spectrogram=None), Unit(onset=9.11471875, offset=9.139125, label='-', audio=None, spectrogram=None)], method='segment_song', segment_params={'threshold': 1500, 'min_syl_dur': 0.01, 'min_silent_dur': 0.006}, audio=vocalpy.Audio(data=None, samplerate=None, channels=None), path=tests/data-for-tests/source/audio_cbin_annot_notmat/gy6or6/032312/gy6or6_baseline_230312_0918.584.cbin), spectrogram=None),\n",
       " Sequence(units=[Unit(onset=2.19, offset=2.21328125, label='-', audio=None, spectrogram=None), Unit(onset=2.34925, offset=2.38484375, label='-', audio=None, spectrogram=None), Unit(onset=2.49765625, offset=2.51846875, label='-', audio=None, spectrogram=None), Unit(onset=2.8403125, offset=2.86784375, label='-', audio=None, spectrogram=None), Unit(onset=3.49521875, offset=3.5074375, label='-', audio=None, spectrogram=None), Unit(onset=3.59346875, offset=3.6166875, label='-', audio=None, spectrogram=None), Unit(onset=3.658625, offset=3.69215625, label='-', audio=None, spectrogram=None), Unit(onset=3.71940625, offset=3.75728125, label='-', audio=None, spectrogram=None), Unit(onset=3.80628125, offset=3.835875, label='-', audio=None, spectrogram=None), Unit(onset=4.15240625, offset=4.1860625, label='-', audio=None, spectrogram=None), Unit(onset=4.811625, offset=4.82340625, label='-', audio=None, spectrogram=None), Unit(onset=4.91046875, offset=4.9205, label='-', audio=None, spectrogram=None), Unit(onset=4.9598125, offset=5.00521875, label='-', audio=None, spectrogram=None), Unit(onset=5.05015625, offset=5.068875, label='-', audio=None, spectrogram=None), Unit(onset=5.1105, offset=5.14290625, label='-', audio=None, spectrogram=None), Unit(onset=5.479375, offset=5.5084375, label='-', audio=None, spectrogram=None), Unit(onset=6.15546875, offset=6.17409375, label='-', audio=None, spectrogram=None), Unit(onset=6.256625, offset=6.26865625, label='-', audio=None, spectrogram=None), Unit(onset=6.3040625, offset=6.354625, label='-', audio=None, spectrogram=None), Unit(onset=6.39984375, offset=6.4203125, label='-', audio=None, spectrogram=None), Unit(onset=6.468, offset=6.4900625, label='-', audio=None, spectrogram=None), Unit(onset=6.7486875, offset=6.76021875, label='-', audio=None, spectrogram=None), Unit(onset=6.825875, offset=6.85453125, label='-', audio=None, spectrogram=None), Unit(onset=7.50871875, offset=7.52565625, label='-', audio=None, spectrogram=None), Unit(onset=7.5968125, offset=7.63171875, label='-', audio=None, spectrogram=None), Unit(onset=7.6565625, offset=7.70746875, label='-', audio=None, spectrogram=None), Unit(onset=7.7349375, offset=7.7646875, label='-', audio=None, spectrogram=None), Unit(onset=7.8193125, offset=7.85515625, label='-', audio=None, spectrogram=None), Unit(onset=8.1045, offset=8.11559375, label='-', audio=None, spectrogram=None), Unit(onset=8.17628125, offset=8.206625, label='-', audio=None, spectrogram=None)], method='segment_song', segment_params={'threshold': 1500, 'min_syl_dur': 0.01, 'min_silent_dur': 0.006}, audio=vocalpy.Audio(data=None, samplerate=None, channels=None), path=tests/data-for-tests/source/audio_cbin_annot_notmat/gy6or6/032312/gy6or6_baseline_230312_1054.1329.cbin), spectrogram=None)]"
      ]
     },
     "execution_count": 10,
     "metadata": {},
     "output_type": "execute_result"
    }
   ],
   "source": [
    "seqs"
   ]
  },
  {
   "cell_type": "code",
   "execution_count": null,
   "id": "ded3f65b-c42f-4782-8775-3a36e3e149d7",
   "metadata": {},
   "outputs": [],
   "source": []
  }
 ],
 "metadata": {
  "kernelspec": {
   "display_name": "Python 3 (ipykernel)",
   "language": "python",
   "name": "python3"
  },
  "language_info": {
   "codemirror_mode": {
    "name": "ipython",
    "version": 3
   },
   "file_extension": ".py",
   "mimetype": "text/x-python",
   "name": "python",
   "nbconvert_exporter": "python",
   "pygments_lexer": "ipython3",
   "version": "3.10.10"
  }
 },
 "nbformat": 4,
 "nbformat_minor": 5
}
